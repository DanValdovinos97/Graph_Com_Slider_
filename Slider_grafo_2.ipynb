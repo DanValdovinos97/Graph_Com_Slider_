{
  "nbformat": 4,
  "nbformat_minor": 0,
  "metadata": {
    "colab": {
      "name": "Slider_grafo_2.ipynb",
      "provenance": [],
      "collapsed_sections": []
    },
    "kernelspec": {
      "name": "python3",
      "display_name": "Python 3"
    }
  },
  "cells": [
    {
      "cell_type": "code",
      "metadata": {
        "id": "tqBZJAkNOL7C",
        "colab_type": "code",
        "colab": {}
      },
      "source": [
        "#Librerias de Bokeh\n",
        "\n",
        "import itertools\n",
        "from itertools import combinations\n",
        "import networkx as nx\n",
        "from networkx.algorithms import community\n",
        "import pandas as pd\n",
        "from bokeh.io import show, output_notebook, output_file\n",
        "from bokeh.models import Plot, Range1d, MultiLine, Circle, HoverTool, TapTool, BoxSelectTool, CustomJS, Slider, Column\n",
        "from bokeh.models import GraphRenderer, StaticLayoutProvider\n",
        "from bokeh.models.graphs import from_networkx, NodesAndLinkedEdges, EdgesAndLinkedNodes\n",
        "from bokeh.palettes import Spectral4\n",
        "from bokeh.models import LabelSet\n",
        "import matplotlib.pyplot as plt\n"
      ],
      "execution_count": null,
      "outputs": []
    },
    {
      "cell_type": "code",
      "metadata": {
        "id": "9Cv0x_FOOXGy",
        "colab_type": "code",
        "colab": {
          "base_uri": "https://localhost:8080/",
          "height": 128
        },
        "outputId": "93394150-f334-4371-883c-c480b60512b9"
      },
      "source": [
        "#Datos\n",
        "\n",
        "from google.colab import drive\n",
        "drive.mount('/content/drive')\n",
        "\n",
        "matriz = pd.read_csv('/content/drive/My Drive/nicho_mx.csv')"
      ],
      "execution_count": null,
      
          "name": "stdout"
        }
      ]
    },
    {
      "cell_type": "code",
      "metadata": {
        "id": "DdDAMCAnOusg",
        "colab_type": "code",
        "colab": {
          "base_uri": "https://localhost:8080/",
          "height": 563
        },
        "outputId": "5156b4b5-c983-4e6f-b010-b70370db373a"
      },
      "source": [
        "#Preprocesamiento para obtener etiquetas y matriz de adjacencia\n",
        "\n",
        "etiquetas = dict(matriz[\"Unnamed: 1\"]) \n",
        "#etiquetas matriz adjacencia\n",
        "\n",
        "matriz_1 = matriz.drop( columns=['Unnamed: 0']) #matriz sin columna ID de especies\n",
        "print(matriz_1)\n",
        "\n",
        "matriz_adj = matriz_1.drop(columns='Unnamed: 1') #matriz adjacencia\n",
        "matriz_adj = matriz_adj.to_numpy()"
      ],
      "execution_count": null,
      "outputs": [
        {
          "output_type": "stream",
          "text": [
            "         Unnamed: 1  acutifolia  affinis  ...  sapoteifolia  scytophylla  uxoris\n",
            "0        acutifolia           0       41  ...            59           80      51\n",
            "1           affinis          41        0  ...            72           50      51\n",
            "2            canbyi          30       17  ...            16           25       7\n",
            "3         candicans          53       78  ...            89           68      71\n",
            "4          castanea          88       51  ...            71           87      61\n",
            "5         conzattii          68       51  ...            58           66      46\n",
            "6          cortesii          29       80  ...            62           35      41\n",
            "7     costaricensis           0        0  ...             0            0       0\n",
            "8       crassifolia          55       75  ...            87           70      74\n",
            "9         crassipes          52       48  ...            67           70      92\n",
            "10      crispifolia          49       65  ...            81           62      82\n",
            "11       delgadoana          10       61  ...            38           14      23\n",
            "12         eduardii          49       25  ...            28           39      18\n",
            "13        elliptica          80       61  ...            78           79      57\n",
            "14           emoryi           3        5  ...             1            5       0\n",
            "15          gentryi          74       47  ...            55           66      44\n",
            "16         grahamii          83       55  ...            72           80      61\n",
            "17    hypoleucoides          31       19  ...            18           27       9\n",
            "18          iltisii          77       30  ...            46           63      37\n",
            "19          laurina          44       66  ...            76           59      80\n",
            "20         mexicana          74       54  ...            77           87      78\n",
            "21     peninsularis          29       19  ...            18           27       9\n",
            "22  pinnativenulosa          56       80  ...            83           67      65\n",
            "23      planipocula          52       19  ...            29           38      19\n",
            "24     sapoteifolia          59       72  ...             0           71      70\n",
            "25      scytophylla          80       50  ...            71            0      68\n",
            "26           uxoris          51       51  ...            70           68       0\n",
            "\n",
            "[27 rows x 28 columns]\n"
          ],
          "name": "stdout"
        }
      ]
    },
    {
      "cell_type": "code",
      "metadata": {
        "id": "xBwzHTNZOwQt",
        "colab_type": "code",
        "colab": {
          "base_uri": "https://localhost:8080/",
          "height": 126
        },
        "outputId": "35b83cd8-86e8-4415-9965-906a76757f19"
      },
      "source": [
        "#Generador de grafo de matriz de adjacencia\n",
        "\n",
        "Grafo_ = nx.from_numpy_matrix(matriz_adj)\n",
        "\n",
        "print(nx.info(Grafo_))\n",
        "print(\"Weighted edges: \" + str(nx.is_weighted(Grafo_)))\n"
      ],
      "execution_count": null,
      "outputs": [
        {
          "output_type": "stream",
          "text": [
            "Name: \n",
            "Type: Graph\n",
            "Number of nodes: 27\n",
            "Number of edges: 318\n",
            "Average degree:  23.5556\n",
            "Weighted edges: True\n"
          ],
          "name": "stdout"
        }
      ]
    },
    {
      "cell_type": "code",
      "metadata": {
        "id": "d2BVdlXK2R3W",
        "colab_type": "code",
        "colab": {
          "base_uri": "https://localhost:8080/",
          "height": 55
        },
        "outputId": "5e159cbb-1295-4971-88b6-8e1f28c7fac4"
      },
      "source": [
        "G= Grafo_\n",
        "\n",
        "#Conversion de formato de informacion de grafo de NetworkX\n",
        "nodos_grafo = list(G.nodes)\n",
        "dict_aristas_grafo = dict(G.edges)\n",
        "\n",
        "aristas_ = list(dict_aristas_grafo.keys()) #lista con tuplas (nodo init,nodo fin)\n",
        "pesos_ = list(dict_aristas_grafo.values())\n",
        "\n",
        "no_aristas = len(aristas_) #Numero de aristas en grafo\n",
        "\n",
        "nodos_inicio = [] #lista con nodos donde inicia una arista\n",
        "nodos_destino = [] #lista con nodos donde termina una arista\n",
        "pesos_aristas = [] #lista peso de cada arista en el grafo\n",
        "\n",
        "for i in range(len(aristas_)):\n",
        "  ar = list(aristas_[i])\n",
        "  pesos_aristas.append(pesos_[i]['weight']) \n",
        "  nodos_inicio.append(ar[0])\n",
        "  nodos_destino.append(ar[1])\n",
        "\n",
        "\"\"\"\n",
        "Se crean dos listas, una con los nodos de inicio de cada arista\n",
        "y otra con los nodos de destino de cada arista.\n",
        "\n",
        "Esto con el fin de poder pasarlos como argumentos a la funcion\n",
        "graph_.edge_renderer.data_source.data que requiere que se le pasen\n",
        "dos columnas \"start\" y \"end\" que contengan los indice de cada nodo en \n",
        "cada arista\n",
        "\"\"\"\n"
      ],
      "execution_count": null,
      "outputs": [
        {
          "output_type": "execute_result",
          "data": {
            "text/plain": [
              "'\\nSe crean dos listas, una con los nodos de inicio de cada arista\\ny otra con los nodos de destino de cada arista.\\n\\nEsto con el fin de poder pasarlos como argumentos a la funcion\\ngraph_.edge_renderer.data_source.data que requiere que se le pasen\\ndos columnas \"start\" y \"end\" que contengan los indice de cada nodo en \\ncada arista\\n'"
            ]
          },
          "metadata": {
            "tags": []
          },
          "execution_count": 5
        }
      ]
    },
    {
      "cell_type": "markdown",
      "metadata": {
        "id": "figCF1IUaCTF",
        "colab_type": "text"
      },
      "source": [
        "Filtrado por Método de Codo"
      ]
    },
    {
      "cell_type": "code",
      "metadata": {
        "id": "F2gNMOro7viq",
        "colab_type": "code",
        "colab": {
          "base_uri": "https://localhost:8080/",
          "height": 369
        },
        "outputId": "8c4a4920-0023-454a-965f-5d84f5d9b1b0"
      },
      "source": [
        "# print(\"Pesos_aristas: \")\n",
        "print(pesos_aristas)\n",
        "\n",
        "l2 = [0] * (max(pesos_aristas) + 1)\n",
        "#lista vacia del numero de aristas que poseen\n",
        "# cada valor de peso de aristas existente\n",
        "\n",
        "for i in pesos_aristas:\n",
        "  l2[i] += 1\n",
        "\n",
        "#a cada peso de valor i se aumenta el contador\n",
        "# si hay una arista con ese peso\n",
        "print(\"Distribucion de pesos: \")\n",
        "print(l2)\n",
        "\n",
        "plt.plot(range(0,max(pesos_aristas)+1), l2, 'bo--')\n",
        "plt.title(\"Distribucion de frecuencias Pesos en Aristas\")\n",
        "plt.ylabel(\"No. de Aristas\")\n",
        "plt.xlabel(\"Pesos\")\n",
        "plt.show()\n",
        "\n"
      ],
      "execution_count": null,
      "outputs": [
        {
          "output_type": "stream",
          "text": [
            "[41, 30, 53, 88, 68, 29, 55, 52, 49, 10, 49, 80, 3, 74, 83, 31, 77, 44, 74, 29, 56, 52, 59, 80, 51, 17, 78, 51, 51, 80, 75, 48, 65, 61, 25, 61, 5, 47, 55, 19, 30, 66, 54, 19, 80, 19, 72, 50, 51, 14, 26, 53, 9, 17, 5, 8, 75, 28, 31, 44, 23, 69, 23, 7, 16, 53, 24, 21, 16, 25, 7, 65, 53, 65, 88, 68, 80, 43, 24, 72, 2, 50, 67, 16, 40, 79, 73, 16, 82, 23, 89, 68, 71, 69, 36, 67, 62, 60, 15, 42, 85, 4, 71, 86, 27, 72, 55, 83, 28, 67, 47, 71, 87, 61, 37, 57, 43, 48, 16, 67, 74, 16, 82, 64, 53, 51, 45, 57, 44, 63, 38, 58, 66, 46, 4, 60, 38, 55, 61, 16, 47, 2, 33, 42, 11, 20, 56, 41, 11, 62, 13, 62, 35, 41, 69, 85, 39, 28, 72, 3, 53, 69, 19, 42, 86, 77, 19, 90, 26, 87, 70, 74, 77, 22, 15, 56, 41, 61, 7, 37, 75, 78, 6, 60, 16, 67, 70, 92, 39, 18, 66, 45, 63, 9, 36, 92, 72, 9, 78, 20, 81, 62, 82, 2, 26, 12, 22, 3, 40, 19, 42, 38, 14, 23, 45, 13, 67, 37, 54, 41, 16, 29, 43, 34, 37, 28, 39, 18, 3, 73, 81, 29, 63, 60, 72, 29, 75, 43, 78, 79, 57, 6, 4, 55, 2, 1, 2, 38, 6, 1, 1, 5, 63, 39, 56, 41, 57, 32, 59, 45, 55, 66, 44, 25, 68, 58, 80, 23, 69, 44, 72, 80, 61, 24, 9, 18, 67, 26, 22, 18, 27, 9, 30, 59, 26, 42, 60, 46, 63, 37, 69, 9, 78, 16, 76, 59, 80, 18, 70, 36, 77, 87, 78, 25, 22, 18, 27, 9, 28, 83, 67, 65, 29, 38, 19, 71, 70, 68]\n",
            "Distribucion de pesos: \n",
            "[0, 3, 5, 4, 3, 3, 3, 3, 1, 7, 1, 2, 1, 2, 2, 2, 10, 2, 6, 7, 2, 1, 4, 5, 3, 4, 5, 3, 5, 6, 3, 2, 1, 1, 1, 1, 3, 5, 5, 4, 2, 6, 5, 4, 5, 4, 2, 3, 2, 2, 2, 5, 2, 6, 2, 6, 4, 4, 2, 4, 5, 6, 4, 5, 1, 4, 4, 8, 5, 6, 4, 4, 7, 2, 4, 4, 1, 4, 6, 2, 8, 2, 3, 3, 0, 2, 2, 3, 2, 1, 1, 0, 2]\n"
          ],
          "name": "stdout"
        },
        {
          "output_type": "display_data",
          "data": {
            "image/png": "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\n",
            "text/plain": [
              "<Figure size 432x288 with 1 Axes>"
            ]
          },
          "metadata": {
            "tags": [],
            "needs_background": "light"
          }
        }
      ]
    },
    {
      "cell_type": "code",
      "metadata": {
        "id": "bWaLXBWWffbD",
        "colab_type": "code",
        "colab": {
          "base_uri": "https://localhost:8080/",
          "height": 295
        },
        "outputId": "64386b29-352a-4957-9461-51cd3b6c9dad"
      },
      "source": [
        "d_p_aristas = dict(zip(list(G.edges()),pesos_aristas))\n",
        "#diccionario de (arista,peso)\n",
        "d_p_aristas = {k: v for k, v in sorted(d_p_aristas.items(), key=lambda item: item[1])}\n",
        "#reordenamiendo de menor a mayor por value\n",
        "\n",
        "plt.plot(range(0, len(pesos_aristas)), list(d_p_aristas.values()), 'bo--')\n",
        "plt.title(\"Distribucion de Peso por Aristas ordenadas\")\n",
        "plt.ylabel(\"Peso\")\n",
        "plt.xlabel(\"Aristas\")\n",
        "plt.show()\n"
      ],
      "execution_count": null,
      "outputs": [
        {
          "output_type": "display_data",
          "data": {
            "image/png": "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\n",
            "text/plain": [
              "<Figure size 432x288 with 1 Axes>"
            ]
          },
          "metadata": {
            "tags": [],
            "needs_background": "light"
          }
        }
      ]
    },
    {
      "cell_type": "markdown",
      "metadata": {
        "id": "5wDhmVq7aPfI",
        "colab_type": "text"
      },
      "source": [
        "Detección de Comunidades con Girvan-Newman"
      ]
    },
    {
      "cell_type": "code",
      "metadata": {
        "id": "CVpsLiRTAFXU",
        "colab_type": "code",
        "colab": {}
      },
      "source": [
        "codo = 125 #escogido por conveniencia viendo el grafico"
      ],
      "execution_count": null,
      "outputs": []
    },
    {
      "cell_type": "code",
      "metadata": {
        "id": "ahrHnB5yQqtW",
        "colab_type": "code",
        "colab": {
          "base_uri": "https://localhost:8080/",
          "height": 35
        },
        "outputId": "fa7d11dc-5d0b-4408-a8ab-33186f92b2fc"
      },
      "source": [
        "### Filtro de aristas para aplicar G-N\n",
        "\n",
        "umbral = d_p_aristas[list(d_p_aristas)[codo]] #umbral de filtro\n",
        "print(\"Umbral de peso de corte = \" + str(umbral))\n",
        "# se determina de la grafica \"Distribucion de Pesos en Aristas\"\n",
        "# para eliminar aristas que aportan poca info -> de poco peso\n",
        "\n",
        "#se escoge umbral=20 por la gran cantidad de aristas con peso\n",
        "# menor a 20\n",
        "\n",
        "def filter_edge(n1, n2):\n",
        "  arista_temp = Grafo_[n1][n2]\n",
        "  if arista_temp['weight'] > umbral:\n",
        "    return (n1, n2) \n",
        "\n",
        "\"\"\"\n",
        "filter_edge es una funcion de filtro para aristas de un grafo\n",
        "\n",
        "devuelve aquellas aristas (n1,n2) cuyo peso es mayor que umbral\n",
        "\"\"\"\n",
        "\n",
        "subgrafo_filter = nx.subgraph_view(Grafo_, filter_edge=filter_edge)\n",
        "#subgraph_view permite extraer subgrafos de un grafo original con filtros\n",
        "\n",
        "#Crear Subgrafo filtrado\n",
        "subgrafo_ = nx.Graph()\n",
        "subgrafo_.add_nodes_from(subgrafo_filter.nodes)\n",
        "subgrafo_.add_edges_from(subgrafo_filter.edges)"
      ],
      "execution_count": null,
      "outputs": [
        {
          "output_type": "stream",
          "text": [
            "Umbral de peso de corte = 38\n"
          ],
          "name": "stdout"
        }
      ]
    },
    {
      "cell_type": "code",
      "metadata": {
        "id": "5oY44hi3QzQp",
        "colab_type": "code",
        "colab": {
          "base_uri": "https://localhost:8080/",
          "height": 965
        },
        "outputId": "32ced367-8e6f-43fb-ade4-6b164efb07e6"
      },
      "source": [
        "\n",
        "###Deteccion de comunidades con Girvan-Newman\n",
        "\n",
        "com = community.girvan_newman(subgrafo_)\n",
        "a = list(com)\n",
        "print('Niveles de Comunidades = ' + str(len(a)))\n",
        "for i in range(25):\n",
        "  print(\"Nivel \"+ str(i))\n",
        "  print(a[i])"
      ],
      "execution_count": null,
      "outputs": [
        {
          "output_type": "stream",
          "text": [
            "Niveles de Comunidades = 25\n",
            "Nivel 0\n",
            "({0, 1, 2, 3, 4, 5, 6, 8, 9, 10, 11, 12, 13, 15, 16, 17, 18, 19, 20, 21, 22, 23, 24, 25, 26}, {7}, {14})\n",
            "Nivel 1\n",
            "({0, 1, 3, 4, 5, 6, 8, 9, 10, 11, 12, 13, 15, 16, 18, 19, 20, 22, 23, 24, 25, 26}, {17, 2, 21}, {7}, {14})\n",
            "Nivel 2\n",
            "({0, 1, 3, 4, 5, 6, 8, 9, 10, 11, 12, 13, 15, 16, 18, 19, 20, 22, 24, 25, 26}, {17, 2, 21}, {7}, {14}, {23})\n",
            "Nivel 3\n",
            "({0, 1, 3, 4, 5, 6, 8, 9, 10, 11, 13, 15, 16, 18, 19, 20, 22, 24, 25, 26}, {17, 2, 21}, {7}, {12}, {14}, {23})\n",
            "Nivel 4\n",
            "({0, 1, 3, 4, 5, 6, 8, 9, 10, 13, 15, 16, 18, 19, 20, 22, 24, 25, 26}, {17, 2, 21}, {7}, {11}, {12}, {14}, {23})\n",
            "Nivel 5\n",
            "({0, 1, 3, 4, 5, 8, 9, 10, 13, 15, 16, 18, 19, 20, 22, 24, 25, 26}, {17, 2, 21}, {6}, {7}, {11}, {12}, {14}, {23})\n",
            "Nivel 6\n",
            "({0, 1, 3, 4, 5, 8, 9, 10, 13, 15, 16, 19, 20, 22, 24, 25, 26}, {17, 2, 21}, {6}, {7}, {11}, {12}, {14}, {18}, {23})\n",
            "Nivel 7\n",
            "({0}, {1, 3, 4, 5, 8, 9, 10, 13, 15, 16, 19, 20, 22, 24, 25, 26}, {17, 2, 21}, {6}, {7}, {11}, {12}, {14}, {18}, {23})\n",
            "Nivel 8\n",
            "({0}, {1}, {17, 2, 21}, {3, 4, 5, 8, 9, 10, 13, 15, 16, 19, 20, 22, 24, 25, 26}, {6}, {7}, {11}, {12}, {14}, {18}, {23})\n",
            "Nivel 9\n",
            "({0}, {1}, {2}, {3, 4, 5, 8, 9, 10, 13, 15, 16, 19, 20, 22, 24, 25, 26}, {6}, {7}, {11}, {12}, {14}, {17, 21}, {18}, {23})\n",
            "Nivel 10\n",
            "({0}, {1}, {2}, {3}, {4, 5, 8, 9, 10, 13, 15, 16, 19, 20, 22, 24, 25, 26}, {6}, {7}, {11}, {12}, {14}, {17, 21}, {18}, {23})\n",
            "Nivel 11\n",
            "({0}, {1}, {2}, {3}, {4}, {5, 8, 9, 10, 13, 15, 16, 19, 20, 22, 24, 25, 26}, {6}, {7}, {11}, {12}, {14}, {17, 21}, {18}, {23})\n",
            "Nivel 12\n",
            "({0}, {1}, {2}, {3}, {4}, {5}, {6}, {7}, {8, 9, 10, 13, 15, 16, 19, 20, 22, 24, 25, 26}, {11}, {12}, {14}, {17, 21}, {18}, {23})\n",
            "Nivel 13\n",
            "({0}, {1}, {2}, {3}, {4}, {5}, {6}, {7}, {8}, {9, 10, 13, 15, 16, 19, 20, 22, 24, 25, 26}, {11}, {12}, {14}, {17, 21}, {18}, {23})\n",
            "Nivel 14\n",
            "({0}, {1}, {2}, {3}, {4}, {5}, {6}, {7}, {8}, {9}, {10, 13, 15, 16, 19, 20, 22, 24, 25, 26}, {11}, {12}, {14}, {17, 21}, {18}, {23})\n",
            "Nivel 15\n",
            "({0}, {1}, {2}, {3}, {4}, {5}, {6}, {7}, {8}, {9}, {10}, {11}, {12}, {13, 15, 16, 19, 20, 22, 24, 25, 26}, {14}, {17, 21}, {18}, {23})\n",
            "Nivel 16\n",
            "({0}, {1}, {2}, {3}, {4}, {5}, {6}, {7}, {8}, {9}, {10}, {11}, {12}, {13}, {14}, {15, 16, 19, 20, 22, 24, 25, 26}, {17, 21}, {18}, {23})\n",
            "Nivel 17\n",
            "({0}, {1}, {2}, {3}, {4}, {5}, {6}, {7}, {8}, {9}, {10}, {11}, {12}, {13}, {14}, {15}, {16, 19, 20, 22, 24, 25, 26}, {17, 21}, {18}, {23})\n",
            "Nivel 18\n",
            "({0}, {1}, {2}, {3}, {4}, {5}, {6}, {7}, {8}, {9}, {10}, {11}, {12}, {13}, {14}, {15}, {16}, {17, 21}, {18}, {19, 20, 22, 24, 25, 26}, {23})\n",
            "Nivel 19\n",
            "({0}, {1}, {2}, {3}, {4}, {5}, {6}, {7}, {8}, {9}, {10}, {11}, {12}, {13}, {14}, {15}, {16}, {17}, {18}, {19, 20, 22, 24, 25, 26}, {21}, {23})\n",
            "Nivel 20\n",
            "({0}, {1}, {2}, {3}, {4}, {5}, {6}, {7}, {8}, {9}, {10}, {11}, {12}, {13}, {14}, {15}, {16}, {17}, {18}, {19}, {20, 22, 24, 25, 26}, {21}, {23})\n",
            "Nivel 21\n",
            "({0}, {1}, {2}, {3}, {4}, {5}, {6}, {7}, {8}, {9}, {10}, {11}, {12}, {13}, {14}, {15}, {16}, {17}, {18}, {19}, {20}, {21}, {24, 25, 26, 22}, {23})\n",
            "Nivel 22\n",
            "({0}, {1}, {2}, {3}, {4}, {5}, {6}, {7}, {8}, {9}, {10}, {11}, {12}, {13}, {14}, {15}, {16}, {17}, {18}, {19}, {20}, {21}, {22}, {23}, {24, 25, 26})\n",
            "Nivel 23\n",
            "({0}, {1}, {2}, {3}, {4}, {5}, {6}, {7}, {8}, {9}, {10}, {11}, {12}, {13}, {14}, {15}, {16}, {17}, {18}, {19}, {20}, {21}, {22}, {23}, {24}, {25, 26})\n",
            "Nivel 24\n",
            "({0}, {1}, {2}, {3}, {4}, {5}, {6}, {7}, {8}, {9}, {10}, {11}, {12}, {13}, {14}, {15}, {16}, {17}, {18}, {19}, {20}, {21}, {22}, {23}, {24}, {25}, {26})\n"
          ],
          "name": "stdout"
        }
      ]
    },
    {
      "cell_type": "markdown",
      "metadata": {
        "id": "7Ie66moiaHj8",
        "colab_type": "text"
      },
      "source": [
        "Obtención de acomodo Spectral Layout"
      ]
    },
    {
      "cell_type": "code",
      "metadata": {
        "id": "iJIDmKsnroQA",
        "colab_type": "code",
        "colab": {
          "base_uri": "https://localhost:8080/",
          "height": 35
        },
        "outputId": "e76d13b3-14a2-4652-eead-92e283b595f9"
      },
      "source": [
        "print(list(combinations([1,2,3,4,5],2)))"
      ],
      "execution_count": null,
      "outputs": [
        {
          "output_type": "stream",
          "text": [
            "[(1, 2), (1, 3), (1, 4), (1, 5), (2, 3), (2, 4), (2, 5), (3, 4), (3, 5), (4, 5)]\n"
          ],
          "name": "stdout"
        }
      ]
    },
    {
      "cell_type": "code",
      "metadata": {
        "id": "izElWa5z-Vpw",
        "colab_type": "code",
        "colab": {
          "base_uri": "https://localhost:8080/",
          "height": 55
        },
        "outputId": "fc6a08c1-9a50-4f41-cc43-d22ecbacbf3f"
      },
      "source": [
        "L_novos_aristas = []\n",
        "corte_comunidades = 16\n",
        "s_G = nx.Graph()\n",
        "s_G.add_nodes_from(Grafo_.nodes())\n",
        "\n",
        "for comunidad in a[corte_comunidades]:\n",
        "  \n",
        "  n_aristas = list(combinations(comunidad,2))\n",
        "\n",
        "  #data = False para eliminar pesos de aristas al copiar\n",
        "  s_G.add_edges_from(n_aristas) #agregar aristas a nuevo grafo\n",
        "  L_novos_aristas.append(n_aristas)\n",
        "\n",
        "print(s_G.edges.data(data=True))"
      ],
      "execution_count": null,
      "outputs": [
        {
          "output_type": "stream",
          "text": [
            "[(15, 16, {}), (15, 19, {}), (15, 20, {}), (15, 22, {}), (15, 24, {}), (15, 25, {}), (15, 26, {}), (16, 19, {}), (16, 20, {}), (16, 22, {}), (16, 24, {}), (16, 25, {}), (16, 26, {}), (17, 21, {}), (19, 20, {}), (19, 22, {}), (19, 24, {}), (19, 25, {}), (19, 26, {}), (20, 22, {}), (20, 24, {}), (20, 25, {}), (20, 26, {}), (22, 24, {}), (22, 25, {}), (22, 26, {}), (24, 25, {}), (24, 26, {}), (25, 26, {})]\n"
          ],
          "name": "stdout"
        }
      ]
    },
    {
      "cell_type": "code",
      "metadata": {
        "id": "m9EZvSl9WFRv",
        "colab_type": "code",
        "colab": {
          "base_uri": "https://localhost:8080/",
          "height": 335
        },
        "outputId": "bca79691-f758-4499-82ee-80db90976cb2"
      },
      "source": [
        "\n",
        "position_subgrafo_ = nx.spring_layout(s_G, weight=None, scale=1)\n",
        "\n",
        "#Funcion para dibujar subgrafo con etiquetas\n",
        "\n",
        "nx.draw_spring(s_G, with_labels = True)\n",
        "\n",
        "nx.draw_networkx_labels(s_G, \n",
        "                        pos = position_subgrafo_,\n",
        "                        labels= etiquetas)\n",
        "\n",
        "#pos = posicion de nodos en plot\n",
        "\n",
        "plt.title(\"nicho_mx Umbral = \" + str(umbral))\n",
        "plt.show()\n"
      ],
      "execution_count": null,
      "outputs": [
        {
          "output_type": "display_data",
          "data": {
            "image/png": "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\n",
            "text/plain": [
              "<Figure size 432x288 with 1 Axes>"
            ]
          },
          "metadata": {
            "tags": []
          }
        }
      ]
    },
    {
      "cell_type": "code",
      "metadata": {
        "id": "qTTPJHWTxoPe",
        "colab_type": "code",
        "colab": {}
      },
      "source": [
        "#pos_grafo = nx.circular_layout(G) #posicion espacial de nodos\n",
        "#puede ser con circular_layout o spectral_layout\n",
        "pos_grafo = position_subgrafo_\n",
        "\n",
        "output_notebook()\n",
        "\n",
        "plot = Plot(plot_width=900, plot_height=500,\n",
        "            x_range=Range1d(-1.1,1.1), y_range=Range1d(-1.1,1.1))\n",
        "plot.title.text = \"nicho_mx Interaccion Slider\"\n",
        "\n",
        "datos_nodos = list(matriz_1['Unnamed: 1']) #datos nombre nodos\n",
        "\n",
        "#Dibujar grafo \n",
        "graph_ = GraphRenderer()\n",
        "\n",
        "# Nodos\n",
        "graph_.node_renderer.data_source.add(nodos_grafo, 'index') #datos index nodos\n",
        "graph_.node_renderer.glyph = Circle(size=15, fill_color='blue')\n",
        "\n",
        "#Obtener datos para cada nodo\n",
        "graph_.node_renderer.data_source.data['name'] = datos_nodos\n",
        "\n",
        "# Aristas\n",
        "graph_.edge_renderer.data_source.data = dict(\n",
        "    start= nodos_inicio,\n",
        "    end= nodos_destino) #definir datos de aristas\n",
        "graph_.edge_renderer.data_source.add(pesos_aristas, \"Weights\")\n",
        "graph_.edge_renderer.glyph = MultiLine(line_color=\"#CCCCCC\",\n",
        "                                       line_alpha=0.8,\n",
        "                                       line_width=1)\n",
        "\n",
        "\n",
        "#Herramientas para seleccionar y mostrar nodos\n",
        "hover = HoverTool(tooltips=[(\"Especie\", \"@name\")])\n",
        "plot.add_tools(hover, TapTool(), BoxSelectTool())\n",
        "\n",
        "\n",
        "#Posicion espacial de nodos\n",
        "graph_.layout_provider = StaticLayoutProvider(graph_layout = pos_grafo)\n",
        "plot.renderers.append(graph_)"
      ],
      "execution_count": null,
      "outputs": []
    },
    {
      "cell_type": "code",
      "metadata": {
        "id": "Mwu52ymCxwn4",
        "colab_type": "code",
        "colab": {}
      },
      "source": [
        "#Configuracion nodos y aristas en las interacciones\n",
        "\n",
        "graph_.node_renderer.selection_glyph = Circle(size=15, fill_color=Spectral4[2])\n",
        "graph_.node_renderer.hover_glyph = Circle(size=15, fill_color=Spectral4[1])\n",
        "graph_.node_renderer.glyph.properties_with_values()\n",
        "\n",
        "graph_.edge_renderer.selection_glyph = MultiLine(line_color=Spectral4[2], line_width=3)\n",
        "graph_.edge_renderer.hover_glyph = MultiLine(line_color=Spectral4[1], line_width=5)\n",
        "\n",
        "#Politica de seleccion e inspeccion de nodos\n",
        "graph_.selection_policy = NodesAndLinkedEdges()\n",
        "graph_.inspection_policy = NodesAndLinkedEdges()\n"
      ],
      "execution_count": null,
      "outputs": []
    },
    {
      "cell_type": "code",
      "metadata": {
        "id": "gMPaCQGKqvX9",
        "colab_type": "code",
        "colab": {
          "base_uri": "https://localhost:8080/",
          "height": 605
        },
        "outputId": "c83c20c5-a878-4c9d-a213-796668bd9245"
      },
      "source": [
        "# Slider\n",
        "code = \"\"\"\n",
        "    \n",
        "    var datos_nodos = datum;\n",
        "    var f = cb_obj.value;\n",
        "    var n_nodos_inicio = [];\n",
        "    var n_nodos_destino = [];\n",
        "    var n_pesos = [];\n",
        "    var n_indices = [];\n",
        "\n",
        "    var n1 = nodos_inicio_act.slice();\n",
        "    var n2 = nodos_destino_act.slice();\n",
        "    var p1 = pesos_actuales.slice();\n",
        "    var limite = aristas;\n",
        "    var index_ = indices_actuales;\n",
        "\n",
        "    for (i= 0; i < limite; i++) {\n",
        "      if (p1[i] > f) {\n",
        "        n_nodos_inicio.push(n1[i]);\n",
        "        n_nodos_destino.push(n2[i]);\n",
        "        n_pesos.push(p1[i]);\n",
        "      }\n",
        "    }\n",
        "\n",
        "    new_data_edge = {'start': n_nodos_inicio, 'end': n_nodos_destino};\n",
        "    new_data_nodes = {'index': index_};\n",
        "\n",
        "    graph_setup.edge_renderer.data_source.data = new_data_edge; \n",
        "    graph_setup.node_renderer.data_source.data = new_data_nodes;\n",
        "    graph_setup.node_renderer.data_source.data['name'] = datos_nodos;\n",
        "    \n",
        "\"\"\"\n",
        "callback = CustomJS(args = dict(graph_setup = graph_,\n",
        "                                datum = datos_nodos,\n",
        "                                nodos_inicio_act = nodos_inicio,\n",
        "                                nodos_destino_act = nodos_destino,\n",
        "                                pesos_actuales = pesos_aristas,\n",
        "                                aristas = no_aristas,\n",
        "                                indices_actuales = nodos_grafo),\n",
        "                                code = code)\n",
        "slider = Slider(title = 'Umbral', start = 1, end = 100, value = 1)\n",
        "slider.js_on_change('value', callback)\n",
        "\n",
        "#Plotear grafo\n",
        "layout = Column(plot, slider)\n",
        "output_file(\"ejemplo_shido_2.html\")\n",
        "output_notebook()\n",
        "show(layout)\n",
        "\n",
        "\"\"\"\n",
        "Nota personal\n",
        "\n",
        "si te manda error RuntimeError: Models must be owned by only a single document\n",
        "\n",
        "Reinicia el entorno de ejecucion para borrar variables locales almacenadas \n",
        "por Python\n",
        "\n",
        "Bokeh no admite que se compartan datos entre diferentes sesiones por seguridad.\n",
        "Python si permite que en diferentes sesiones(ejecuciones) se guarden\n",
        "variables locales, lo que no es compactible con Bokeh.\n",
        "\n",
        "\"\"\"\n"
      ],
      "execution_count": null,
      "outputs": [
        {
          "output_type": "display_data",
          "data": {
            "application/javascript": [
              "\n",
              "(function(root) {\n",
              "  function now() {\n",
              "    return new Date();\n",
              "  }\n",
              "\n",
              "  var force = true;\n",
              "\n",
              "  if (typeof root._bokeh_onload_callbacks === \"undefined\" || force === true) {\n",
              "    root._bokeh_onload_callbacks = [];\n",
              "    root._bokeh_is_loading = undefined;\n",
              "  }\n",
              "\n",
              "  var JS_MIME_TYPE = 'application/javascript';\n",
              "  var HTML_MIME_TYPE = 'text/html';\n",
              "  var EXEC_MIME_TYPE = 'application/vnd.bokehjs_exec.v0+json';\n",
              "  var CLASS_NAME = 'output_bokeh rendered_html';\n",
              "\n",
              "  /**\n",
              "   * Render data to the DOM node\n",
              "   */\n",
              "  function render(props, node) {\n",
              "    var script = document.createElement(\"script\");\n",
              "    node.appendChild(script);\n",
              "  }\n",
              "\n",
              "  /**\n",
              "   * Handle when an output is cleared or removed\n",
              "   */\n",
              "  function handleClearOutput(event, handle) {\n",
              "    var cell = handle.cell;\n",
              "\n",
              "    var id = cell.output_area._bokeh_element_id;\n",
              "    var server_id = cell.output_area._bokeh_server_id;\n",
              "    // Clean up Bokeh references\n",
              "    if (id != null && id in Bokeh.index) {\n",
              "      Bokeh.index[id].model.document.clear();\n",
              "      delete Bokeh.index[id];\n",
              "    }\n",
              "\n",
              "    if (server_id !== undefined) {\n",
              "      // Clean up Bokeh references\n",
              "      var cmd = \"from bokeh.io.state import curstate; print(curstate().uuid_to_server['\" + server_id + \"'].get_sessions()[0].document.roots[0]._id)\";\n",
              "      cell.notebook.kernel.execute(cmd, {\n",
              "        iopub: {\n",
              "          output: function(msg) {\n",
              "            var id = msg.content.text.trim();\n",
              "            if (id in Bokeh.index) {\n",
              "              Bokeh.index[id].model.document.clear();\n",
              "              delete Bokeh.index[id];\n",
              "            }\n",
              "          }\n",
              "        }\n",
              "      });\n",
              "      // Destroy server and session\n",
              "      var cmd = \"import bokeh.io.notebook as ion; ion.destroy_server('\" + server_id + \"')\";\n",
              "      cell.notebook.kernel.execute(cmd);\n",
              "    }\n",
              "  }\n",
              "\n",
              "  /**\n",
              "   * Handle when a new output is added\n",
              "   */\n",
              "  function handleAddOutput(event, handle) {\n",
              "    var output_area = handle.output_area;\n",
              "    var output = handle.output;\n",
              "\n",
              "    // limit handleAddOutput to display_data with EXEC_MIME_TYPE content only\n",
              "    if ((output.output_type != \"display_data\") || (!output.data.hasOwnProperty(EXEC_MIME_TYPE))) {\n",
              "      return\n",
              "    }\n",
              "\n",
              "    var toinsert = output_area.element.find(\".\" + CLASS_NAME.split(' ')[0]);\n",
              "\n",
              "    if (output.metadata[EXEC_MIME_TYPE][\"id\"] !== undefined) {\n",
              "      toinsert[toinsert.length - 1].firstChild.textContent = output.data[JS_MIME_TYPE];\n",
              "      // store reference to embed id on output_area\n",
              "      output_area._bokeh_element_id = output.metadata[EXEC_MIME_TYPE][\"id\"];\n",
              "    }\n",
              "    if (output.metadata[EXEC_MIME_TYPE][\"server_id\"] !== undefined) {\n",
              "      var bk_div = document.createElement(\"div\");\n",
              "      bk_div.innerHTML = output.data[HTML_MIME_TYPE];\n",
              "      var script_attrs = bk_div.children[0].attributes;\n",
              "      for (var i = 0; i < script_attrs.length; i++) {\n",
              "        toinsert[toinsert.length - 1].firstChild.setAttribute(script_attrs[i].name, script_attrs[i].value);\n",
              "      }\n",
              "      // store reference to server id on output_area\n",
              "      output_area._bokeh_server_id = output.metadata[EXEC_MIME_TYPE][\"server_id\"];\n",
              "    }\n",
              "  }\n",
              "\n",
              "  function register_renderer(events, OutputArea) {\n",
              "\n",
              "    function append_mime(data, metadata, element) {\n",
              "      // create a DOM node to render to\n",
              "      var toinsert = this.create_output_subarea(\n",
              "        metadata,\n",
              "        CLASS_NAME,\n",
              "        EXEC_MIME_TYPE\n",
              "      );\n",
              "      this.keyboard_manager.register_events(toinsert);\n",
              "      // Render to node\n",
              "      var props = {data: data, metadata: metadata[EXEC_MIME_TYPE]};\n",
              "      render(props, toinsert[toinsert.length - 1]);\n",
              "      element.append(toinsert);\n",
              "      return toinsert\n",
              "    }\n",
              "\n",
              "    /* Handle when an output is cleared or removed */\n",
              "    events.on('clear_output.CodeCell', handleClearOutput);\n",
              "    events.on('delete.Cell', handleClearOutput);\n",
              "\n",
              "    /* Handle when a new output is added */\n",
              "    events.on('output_added.OutputArea', handleAddOutput);\n",
              "\n",
              "    /**\n",
              "     * Register the mime type and append_mime function with output_area\n",
              "     */\n",
              "    OutputArea.prototype.register_mime_type(EXEC_MIME_TYPE, append_mime, {\n",
              "      /* Is output safe? */\n",
              "      safe: true,\n",
              "      /* Index of renderer in `output_area.display_order` */\n",
              "      index: 0\n",
              "    });\n",
              "  }\n",
              "\n",
              "  // register the mime type if in Jupyter Notebook environment and previously unregistered\n",
              "  if (root.Jupyter !== undefined) {\n",
              "    var events = require('base/js/events');\n",
              "    var OutputArea = require('notebook/js/outputarea').OutputArea;\n",
              "\n",
              "    if (OutputArea.prototype.mime_types().indexOf(EXEC_MIME_TYPE) == -1) {\n",
              "      register_renderer(events, OutputArea);\n",
              "    }\n",
              "  }\n",
              "\n",
              "  \n",
              "  if (typeof (root._bokeh_timeout) === \"undefined\" || force === true) {\n",
              "    root._bokeh_timeout = Date.now() + 5000;\n",
              "    root._bokeh_failed_load = false;\n",
              "  }\n",
              "\n",
              "  var NB_LOAD_WARNING = {'data': {'text/html':\n",
              "     \"<div style='background-color: #fdd'>\\n\"+\n",
              "     \"<p>\\n\"+\n",
              "     \"BokehJS does not appear to have successfully loaded. If loading BokehJS from CDN, this \\n\"+\n",
              "     \"may be due to a slow or bad network connection. Possible fixes:\\n\"+\n",
              "     \"</p>\\n\"+\n",
              "     \"<ul>\\n\"+\n",
              "     \"<li>re-rerun `output_notebook()` to attempt to load from CDN again, or</li>\\n\"+\n",
              "     \"<li>use INLINE resources instead, as so:</li>\\n\"+\n",
              "     \"</ul>\\n\"+\n",
              "     \"<code>\\n\"+\n",
              "     \"from bokeh.resources import INLINE\\n\"+\n",
              "     \"output_notebook(resources=INLINE)\\n\"+\n",
              "     \"</code>\\n\"+\n",
              "     \"</div>\"}};\n",
              "\n",
              "  function display_loaded() {\n",
              "    var el = document.getElementById(null);\n",
              "    if (el != null) {\n",
              "      el.textContent = \"BokehJS is loading...\";\n",
              "    }\n",
              "    if (root.Bokeh !== undefined) {\n",
              "      if (el != null) {\n",
              "        el.textContent = \"BokehJS \" + root.Bokeh.version + \" successfully loaded.\";\n",
              "      }\n",
              "    } else if (Date.now() < root._bokeh_timeout) {\n",
              "      setTimeout(display_loaded, 100)\n",
              "    }\n",
              "  }\n",
              "\n",
              "\n",
              "  function run_callbacks() {\n",
              "    try {\n",
              "      root._bokeh_onload_callbacks.forEach(function(callback) {\n",
              "        if (callback != null)\n",
              "          callback();\n",
              "      });\n",
              "    } finally {\n",
              "      delete root._bokeh_onload_callbacks\n",
              "    }\n",
              "    console.debug(\"Bokeh: all callbacks have finished\");\n",
              "  }\n",
              "\n",
              "  function load_libs(css_urls, js_urls, callback) {\n",
              "    if (css_urls == null) css_urls = [];\n",
              "    if (js_urls == null) js_urls = [];\n",
              "\n",
              "    root._bokeh_onload_callbacks.push(callback);\n",
              "    if (root._bokeh_is_loading > 0) {\n",
              "      console.debug(\"Bokeh: BokehJS is being loaded, scheduling callback at\", now());\n",
              "      return null;\n",
              "    }\n",
              "    if (js_urls == null || js_urls.length === 0) {\n",
              "      run_callbacks();\n",
              "      return null;\n",
              "    }\n",
              "    console.debug(\"Bokeh: BokehJS not loaded, scheduling load and callback at\", now());\n",
              "    root._bokeh_is_loading = css_urls.length + js_urls.length;\n",
              "\n",
              "    function on_load() {\n",
              "      root._bokeh_is_loading--;\n",
              "      if (root._bokeh_is_loading === 0) {\n",
              "        console.debug(\"Bokeh: all BokehJS libraries/stylesheets loaded\");\n",
              "        run_callbacks()\n",
              "      }\n",
              "    }\n",
              "\n",
              "    function on_error() {\n",
              "      console.error(\"failed to load \" + url);\n",
              "    }\n",
              "\n",
              "    for (var i = 0; i < css_urls.length; i++) {\n",
              "      var url = css_urls[i];\n",
              "      const element = document.createElement(\"link\");\n",
              "      element.onload = on_load;\n",
              "      element.onerror = on_error;\n",
              "      element.rel = \"stylesheet\";\n",
              "      element.type = \"text/css\";\n",
              "      element.href = url;\n",
              "      console.debug(\"Bokeh: injecting link tag for BokehJS stylesheet: \", url);\n",
              "      document.body.appendChild(element);\n",
              "    }\n",
              "\n",
              "    for (var i = 0; i < js_urls.length; i++) {\n",
              "      var url = js_urls[i];\n",
              "      var element = document.createElement('script');\n",
              "      element.onload = on_load;\n",
              "      element.onerror = on_error;\n",
              "      element.async = false;\n",
              "      element.src = url;\n",
              "      console.debug(\"Bokeh: injecting script tag for BokehJS library: \", url);\n",
              "      document.head.appendChild(element);\n",
              "    }\n",
              "  };\n",
              "\n",
              "  function inject_raw_css(css) {\n",
              "    const element = document.createElement(\"style\");\n",
              "    element.appendChild(document.createTextNode(css));\n",
              "    document.body.appendChild(element);\n",
              "  }\n",
              "\n",
              "  \n",
              "  var js_urls = [\"https://cdn.pydata.org/bokeh/release/bokeh-1.4.0.min.js\", \"https://cdn.pydata.org/bokeh/release/bokeh-widgets-1.4.0.min.js\", \"https://cdn.pydata.org/bokeh/release/bokeh-tables-1.4.0.min.js\", \"https://cdn.pydata.org/bokeh/release/bokeh-gl-1.4.0.min.js\"];\n",
              "  var css_urls = [];\n",
              "  \n",
              "\n",
              "  var inline_js = [\n",
              "    function(Bokeh) {\n",
              "      Bokeh.set_log_level(\"info\");\n",
              "    },\n",
              "    function(Bokeh) {\n",
              "    \n",
              "    \n",
              "    }\n",
              "  ];\n",
              "\n",
              "  function run_inline_js() {\n",
              "    \n",
              "    if (root.Bokeh !== undefined || force === true) {\n",
              "      \n",
              "    for (var i = 0; i < inline_js.length; i++) {\n",
              "      inline_js[i].call(root, root.Bokeh);\n",
              "    }\n",
              "    } else if (Date.now() < root._bokeh_timeout) {\n",
              "      setTimeout(run_inline_js, 100);\n",
              "    } else if (!root._bokeh_failed_load) {\n",
              "      console.log(\"Bokeh: BokehJS failed to load within specified timeout.\");\n",
              "      root._bokeh_failed_load = true;\n",
              "    } else if (force !== true) {\n",
              "      var cell = $(document.getElementById(null)).parents('.cell').data().cell;\n",
              "      cell.output_area.append_execute_result(NB_LOAD_WARNING)\n",
              "    }\n",
              "\n",
              "  }\n",
              "\n",
              "  if (root._bokeh_is_loading === 0) {\n",
              "    console.debug(\"Bokeh: BokehJS loaded, going straight to plotting\");\n",
              "    run_inline_js();\n",
              "  } else {\n",
              "    load_libs(css_urls, js_urls, function() {\n",
              "      console.debug(\"Bokeh: BokehJS plotting callback run at\", now());\n",
              "      run_inline_js();\n",
              "    });\n",
              "  }\n",
              "}(window));"
            ],
            "application/vnd.bokehjs_load.v0+json": "\n(function(root) {\n  function now() {\n    return new Date();\n  }\n\n  var force = true;\n\n  if (typeof root._bokeh_onload_callbacks === \"undefined\" || force === true) {\n    root._bokeh_onload_callbacks = [];\n    root._bokeh_is_loading = undefined;\n  }\n\n  \n\n  \n  if (typeof (root._bokeh_timeout) === \"undefined\" || force === true) {\n    root._bokeh_timeout = Date.now() + 5000;\n    root._bokeh_failed_load = false;\n  }\n\n  var NB_LOAD_WARNING = {'data': {'text/html':\n     \"<div style='background-color: #fdd'>\\n\"+\n     \"<p>\\n\"+\n     \"BokehJS does not appear to have successfully loaded. If loading BokehJS from CDN, this \\n\"+\n     \"may be due to a slow or bad network connection. Possible fixes:\\n\"+\n     \"</p>\\n\"+\n     \"<ul>\\n\"+\n     \"<li>re-rerun `output_notebook()` to attempt to load from CDN again, or</li>\\n\"+\n     \"<li>use INLINE resources instead, as so:</li>\\n\"+\n     \"</ul>\\n\"+\n     \"<code>\\n\"+\n     \"from bokeh.resources import INLINE\\n\"+\n     \"output_notebook(resources=INLINE)\\n\"+\n     \"</code>\\n\"+\n     \"</div>\"}};\n\n  function display_loaded() {\n    var el = document.getElementById(null);\n    if (el != null) {\n      el.textContent = \"BokehJS is loading...\";\n    }\n    if (root.Bokeh !== undefined) {\n      if (el != null) {\n        el.textContent = \"BokehJS \" + root.Bokeh.version + \" successfully loaded.\";\n      }\n    } else if (Date.now() < root._bokeh_timeout) {\n      setTimeout(display_loaded, 100)\n    }\n  }\n\n\n  function run_callbacks() {\n    try {\n      root._bokeh_onload_callbacks.forEach(function(callback) {\n        if (callback != null)\n          callback();\n      });\n    } finally {\n      delete root._bokeh_onload_callbacks\n    }\n    console.debug(\"Bokeh: all callbacks have finished\");\n  }\n\n  function load_libs(css_urls, js_urls, callback) {\n    if (css_urls == null) css_urls = [];\n    if (js_urls == null) js_urls = [];\n\n    root._bokeh_onload_callbacks.push(callback);\n    if (root._bokeh_is_loading > 0) {\n      console.debug(\"Bokeh: BokehJS is being loaded, scheduling callback at\", now());\n      return null;\n    }\n    if (js_urls == null || js_urls.length === 0) {\n      run_callbacks();\n      return null;\n    }\n    console.debug(\"Bokeh: BokehJS not loaded, scheduling load and callback at\", now());\n    root._bokeh_is_loading = css_urls.length + js_urls.length;\n\n    function on_load() {\n      root._bokeh_is_loading--;\n      if (root._bokeh_is_loading === 0) {\n        console.debug(\"Bokeh: all BokehJS libraries/stylesheets loaded\");\n        run_callbacks()\n      }\n    }\n\n    function on_error() {\n      console.error(\"failed to load \" + url);\n    }\n\n    for (var i = 0; i < css_urls.length; i++) {\n      var url = css_urls[i];\n      const element = document.createElement(\"link\");\n      element.onload = on_load;\n      element.onerror = on_error;\n      element.rel = \"stylesheet\";\n      element.type = \"text/css\";\n      element.href = url;\n      console.debug(\"Bokeh: injecting link tag for BokehJS stylesheet: \", url);\n      document.body.appendChild(element);\n    }\n\n    for (var i = 0; i < js_urls.length; i++) {\n      var url = js_urls[i];\n      var element = document.createElement('script');\n      element.onload = on_load;\n      element.onerror = on_error;\n      element.async = false;\n      element.src = url;\n      console.debug(\"Bokeh: injecting script tag for BokehJS library: \", url);\n      document.head.appendChild(element);\n    }\n  };\n\n  function inject_raw_css(css) {\n    const element = document.createElement(\"style\");\n    element.appendChild(document.createTextNode(css));\n    document.body.appendChild(element);\n  }\n\n  \n  var js_urls = [\"https://cdn.pydata.org/bokeh/release/bokeh-1.4.0.min.js\", \"https://cdn.pydata.org/bokeh/release/bokeh-widgets-1.4.0.min.js\", \"https://cdn.pydata.org/bokeh/release/bokeh-tables-1.4.0.min.js\", \"https://cdn.pydata.org/bokeh/release/bokeh-gl-1.4.0.min.js\"];\n  var css_urls = [];\n  \n\n  var inline_js = [\n    function(Bokeh) {\n      Bokeh.set_log_level(\"info\");\n    },\n    function(Bokeh) {\n    \n    \n    }\n  ];\n\n  function run_inline_js() {\n    \n    if (root.Bokeh !== undefined || force === true) {\n      \n    for (var i = 0; i < inline_js.length; i++) {\n      inline_js[i].call(root, root.Bokeh);\n    }\n    } else if (Date.now() < root._bokeh_timeout) {\n      setTimeout(run_inline_js, 100);\n    } else if (!root._bokeh_failed_load) {\n      console.log(\"Bokeh: BokehJS failed to load within specified timeout.\");\n      root._bokeh_failed_load = true;\n    } else if (force !== true) {\n      var cell = $(document.getElementById(null)).parents('.cell').data().cell;\n      cell.output_area.append_execute_result(NB_LOAD_WARNING)\n    }\n\n  }\n\n  if (root._bokeh_is_loading === 0) {\n    console.debug(\"Bokeh: BokehJS loaded, going straight to plotting\");\n    run_inline_js();\n  } else {\n    load_libs(css_urls, js_urls, function() {\n      console.debug(\"Bokeh: BokehJS plotting callback run at\", now());\n      run_inline_js();\n    });\n  }\n}(window));"
          },
          "metadata": {
            "tags": []
          }
        },
        {
          "output_type": "display_data",
          "data": {
            "text/html": [
              "\n",
              "\n",
              "\n",
              "\n",
              "\n",
              "\n",
              "  <div class=\"bk-root\" id=\"f91636eb-2252-4d82-a563-b7e164674f31\" data-root-id=\"1071\"></div>\n"
            ]
          },
          "metadata": {
            "tags": []
          }
        },
        {
          "output_type": "display_data",
          "data": {
            "application/javascript": [
              "(function(root) {\n",
              "  function embed_document(root) {\n",
              "    \n",
              "  var docs_json = {\"2f751a8d-e01b-4e8f-a896-f6e4eee4ba76\":{\"roots\":{\"references\":[{\"attributes\":{\"children\":[{\"id\":\"1003\",\"type\":\"Plot\"},{\"id\":\"1070\",\"type\":\"Slider\"}]},\"id\":\"1071\",\"type\":\"Column\"},{\"attributes\":{\"bottom_units\":\"screen\",\"fill_alpha\":{\"value\":0.5},\"fill_color\":{\"value\":\"lightgrey\"},\"left_units\":\"screen\",\"level\":\"overlay\",\"line_alpha\":{\"value\":1.0},\"line_color\":{\"value\":\"black\"},\"line_dash\":[4,4],\"line_width\":{\"value\":2},\"render_mode\":\"css\",\"right_units\":\"screen\",\"top_units\":\"screen\"},\"id\":\"1084\",\"type\":\"BoxAnnotation\"},{\"attributes\":{},\"id\":\"1065\",\"type\":\"NodesAndLinkedEdges\"},{\"attributes\":{\"line_alpha\":{\"value\":0.8},\"line_color\":{\"value\":\"#CCCCCC\"}},\"id\":\"1029\",\"type\":\"MultiLine\"},{\"attributes\":{\"line_color\":{\"value\":\"#abdda4\"},\"line_width\":{\"value\":5}},\"id\":\"1060\",\"type\":\"MultiLine\"},{\"attributes\":{},\"id\":\"1073\",\"type\":\"LinearScale\"},{\"attributes\":{},\"id\":\"1085\",\"type\":\"Selection\"},{\"attributes\":{\"fill_color\":{\"value\":\"#abdda4\"},\"size\":{\"units\":\"screen\",\"value\":15}},\"id\":\"1046\",\"type\":\"Circle\"},{\"attributes\":{\"callback\":null,\"data\":{\"Weights\":[41,30,53,88,68,29,55,52,49,10,49,80,3,74,83,31,77,44,74,29,56,52,59,80,51,17,78,51,51,80,75,48,65,61,25,61,5,47,55,19,30,66,54,19,80,19,72,50,51,14,26,53,9,17,5,8,75,28,31,44,23,69,23,7,16,53,24,21,16,25,7,65,53,65,88,68,80,43,24,72,2,50,67,16,40,79,73,16,82,23,89,68,71,69,36,67,62,60,15,42,85,4,71,86,27,72,55,83,28,67,47,71,87,61,37,57,43,48,16,67,74,16,82,64,53,51,45,57,44,63,38,58,66,46,4,60,38,55,61,16,47,2,33,42,11,20,56,41,11,62,13,62,35,41,69,85,39,28,72,3,53,69,19,42,86,77,19,90,26,87,70,74,77,22,15,56,41,61,7,37,75,78,6,60,16,67,70,92,39,18,66,45,63,9,36,92,72,9,78,20,81,62,82,2,26,12,22,3,40,19,42,38,14,23,45,13,67,37,54,41,16,29,43,34,37,28,39,18,3,73,81,29,63,60,72,29,75,43,78,79,57,6,4,55,2,1,2,38,6,1,1,5,63,39,56,41,57,32,59,45,55,66,44,25,68,58,80,23,69,44,72,80,61,24,9,18,67,26,22,18,27,9,30,59,26,42,60,46,63,37,69,9,78,16,76,59,80,18,70,36,77,87,78,25,22,18,27,9,28,83,67,65,29,38,19,71,70,68],\"end\":[1,2,3,4,5,6,8,9,10,11,12,13,14,15,16,17,18,19,20,21,22,23,24,25,26,2,3,4,5,6,8,9,10,11,12,13,14,15,16,17,18,19,20,21,22,23,24,25,26,3,4,5,6,8,9,10,12,13,14,15,16,17,18,19,20,21,22,23,24,25,26,4,5,6,8,9,10,11,12,13,14,15,16,17,18,19,20,21,22,23,24,25,26,5,6,8,9,10,11,12,13,14,15,16,17,18,19,20,21,22,23,24,25,26,6,8,9,10,11,12,13,14,15,16,17,18,19,20,21,22,23,24,25,26,7,8,9,10,11,12,13,14,15,16,17,18,19,20,21,22,23,24,25,26,9,10,11,12,13,14,15,16,17,18,19,20,21,22,23,24,25,26,10,11,12,13,15,16,17,18,19,20,21,22,23,24,25,26,11,12,13,15,16,17,18,19,20,21,22,23,24,25,26,12,13,15,16,18,19,20,22,24,25,26,13,14,15,16,17,18,19,20,21,22,23,24,25,26,14,15,16,17,18,19,20,21,22,23,24,25,26,15,16,17,18,19,20,21,22,23,24,25,16,17,18,19,20,21,22,23,24,25,26,17,18,19,20,21,22,23,24,25,26,18,19,20,21,22,23,24,25,26,19,20,21,22,23,24,25,26,20,21,22,23,24,25,26,21,22,23,24,25,26,22,23,24,25,26,23,24,25,26,24,25,26,25,26,26],\"start\":[0,0,0,0,0,0,0,0,0,0,0,0,0,0,0,0,0,0,0,0,0,0,0,0,0,1,1,1,1,1,1,1,1,1,1,1,1,1,1,1,1,1,1,1,1,1,1,1,1,2,2,2,2,2,2,2,2,2,2,2,2,2,2,2,2,2,2,2,2,2,2,3,3,3,3,3,3,3,3,3,3,3,3,3,3,3,3,3,3,3,3,3,3,4,4,4,4,4,4,4,4,4,4,4,4,4,4,4,4,4,4,4,4,4,5,5,5,5,5,5,5,5,5,5,5,5,5,5,5,5,5,5,5,5,6,6,6,6,6,6,6,6,6,6,6,6,6,6,6,6,6,6,6,6,8,8,8,8,8,8,8,8,8,8,8,8,8,8,8,8,8,8,9,9,9,9,9,9,9,9,9,9,9,9,9,9,9,9,10,10,10,10,10,10,10,10,10,10,10,10,10,10,10,11,11,11,11,11,11,11,11,11,11,11,12,12,12,12,12,12,12,12,12,12,12,12,12,12,13,13,13,13,13,13,13,13,13,13,13,13,13,14,14,14,14,14,14,14,14,14,14,14,15,15,15,15,15,15,15,15,15,15,15,16,16,16,16,16,16,16,16,16,16,17,17,17,17,17,17,17,17,17,18,18,18,18,18,18,18,18,19,19,19,19,19,19,19,20,20,20,20,20,20,21,21,21,21,21,22,22,22,22,23,23,23,24,24,25]},\"selected\":{\"id\":\"1087\",\"type\":\"Selection\"},\"selection_policy\":{\"id\":\"1088\",\"type\":\"UnionRenderers\"}},\"id\":\"1022\",\"type\":\"ColumnDataSource\"},{\"attributes\":{\"fill_color\":{\"value\":\"#fdae61\"},\"size\":{\"units\":\"screen\",\"value\":15}},\"id\":\"1041\",\"type\":\"Circle\"},{\"attributes\":{\"callback\":null,\"data\":{\"index\":[0,1,2,3,4,5,6,7,8,9,10,11,12,13,14,15,16,17,18,19,20,21,22,23,24,25,26],\"name\":[\"acutifolia\",\"affinis\",\"canbyi\",\"candicans\",\"castanea\",\"conzattii\",\"cortesii\",\"costaricensis\",\"crassifolia\",\"crassipes\",\"crispifolia\",\"delgadoana\",\"eduardii\",\"elliptica\",\"emoryi\",\"gentryi\",\"grahamii\",\"hypoleucoides\",\"iltisii\",\"laurina\",\"mexicana\",\"peninsularis\",\"pinnativenulosa\",\"planipocula\",\"sapoteifolia\",\"scytophylla\",\"uxoris\"]},\"selected\":{\"id\":\"1085\",\"type\":\"Selection\"},\"selection_policy\":{\"id\":\"1086\",\"type\":\"UnionRenderers\"}},\"id\":\"1009\",\"type\":\"ColumnDataSource\"},{\"attributes\":{\"graph_layout\":{\"0\":[0.9418594219733825,-0.5328900544814051],\"1\":[1.0,0.1882255208378706],\"10\":[0.14760552605208488,0.8131405751607481],\"11\":[0.8315752157800368,0.5347087040751957],\"12\":[-0.8909360716660377,-0.14831810177935112],\"13\":[-0.6344321077360633,-0.7499607206850504],\"14\":[-0.6241097136690469,0.750062844051554],\"15\":[0.10491532114411578,-0.07465014251751094],\"16\":[0.07057468041956769,-0.08263663397294604],\"17\":[-0.9084392371203394,0.21254643056944428],\"18\":[0.981238012982056,-0.15702602959544387],\"19\":[0.14685468737867027,-0.09028433255812902],\"2\":[-0.2174503289706896,-0.9153549129721679],\"20\":[0.1559478902308746,-0.0603565389042666],\"21\":[-0.8319590150465178,0.19518846208269205],\"22\":[0.13199040865785622,-0.11805930435554036],\"23\":[0.6688088624085867,-0.8860780657284224],\"24\":[0.08906501501695148,-0.04246943289606357],\"25\":[0.12777947295049213,-0.03802000728987672],\"26\":[0.09544368305781697,-0.11508944339130618],\"3\":[-0.0708786128726183,0.9341667854390371],\"4\":[0.45034449142791405,0.8218934950676717],\"5\":[-0.6951798706578347,0.5155895180561743],\"6\":[0.5363077824071434,-0.768517439918379],\"7\":[-0.7594256447454415,-0.44632200120392973],\"8\":[-0.48915594845208926,-0.5811371438890802],\"9\":[-0.3583439209508705,0.841647970798481]}},\"id\":\"1040\",\"type\":\"StaticLayoutProvider\"},{\"attributes\":{\"args\":{\"aristas\":318,\"datum\":[\"acutifolia\",\"affinis\",\"canbyi\",\"candicans\",\"castanea\",\"conzattii\",\"cortesii\",\"costaricensis\",\"crassifolia\",\"crassipes\",\"crispifolia\",\"delgadoana\",\"eduardii\",\"elliptica\",\"emoryi\",\"gentryi\",\"grahamii\",\"hypoleucoides\",\"iltisii\",\"laurina\",\"mexicana\",\"peninsularis\",\"pinnativenulosa\",\"planipocula\",\"sapoteifolia\",\"scytophylla\",\"uxoris\"],\"graph_setup\":{\"id\":\"1007\",\"type\":\"GraphRenderer\"},\"indices_actuales\":[0,1,2,3,4,5,6,7,8,9,10,11,12,13,14,15,16,17,18,19,20,21,22,23,24,25,26],\"nodos_destino_act\":[1,2,3,4,5,6,8,9,10,11,12,13,14,15,16,17,18,19,20,21,22,23,24,25,26,2,3,4,5,6,8,9,10,11,12,13,14,15,16,17,18,19,20,21,22,23,24,25,26,3,4,5,6,8,9,10,12,13,14,15,16,17,18,19,20,21,22,23,24,25,26,4,5,6,8,9,10,11,12,13,14,15,16,17,18,19,20,21,22,23,24,25,26,5,6,8,9,10,11,12,13,14,15,16,17,18,19,20,21,22,23,24,25,26,6,8,9,10,11,12,13,14,15,16,17,18,19,20,21,22,23,24,25,26,7,8,9,10,11,12,13,14,15,16,17,18,19,20,21,22,23,24,25,26,9,10,11,12,13,14,15,16,17,18,19,20,21,22,23,24,25,26,10,11,12,13,15,16,17,18,19,20,21,22,23,24,25,26,11,12,13,15,16,17,18,19,20,21,22,23,24,25,26,12,13,15,16,18,19,20,22,24,25,26,13,14,15,16,17,18,19,20,21,22,23,24,25,26,14,15,16,17,18,19,20,21,22,23,24,25,26,15,16,17,18,19,20,21,22,23,24,25,16,17,18,19,20,21,22,23,24,25,26,17,18,19,20,21,22,23,24,25,26,18,19,20,21,22,23,24,25,26,19,20,21,22,23,24,25,26,20,21,22,23,24,25,26,21,22,23,24,25,26,22,23,24,25,26,23,24,25,26,24,25,26,25,26,26],\"nodos_inicio_act\":[0,0,0,0,0,0,0,0,0,0,0,0,0,0,0,0,0,0,0,0,0,0,0,0,0,1,1,1,1,1,1,1,1,1,1,1,1,1,1,1,1,1,1,1,1,1,1,1,1,2,2,2,2,2,2,2,2,2,2,2,2,2,2,2,2,2,2,2,2,2,2,3,3,3,3,3,3,3,3,3,3,3,3,3,3,3,3,3,3,3,3,3,3,4,4,4,4,4,4,4,4,4,4,4,4,4,4,4,4,4,4,4,4,4,5,5,5,5,5,5,5,5,5,5,5,5,5,5,5,5,5,5,5,5,6,6,6,6,6,6,6,6,6,6,6,6,6,6,6,6,6,6,6,6,8,8,8,8,8,8,8,8,8,8,8,8,8,8,8,8,8,8,9,9,9,9,9,9,9,9,9,9,9,9,9,9,9,9,10,10,10,10,10,10,10,10,10,10,10,10,10,10,10,11,11,11,11,11,11,11,11,11,11,11,12,12,12,12,12,12,12,12,12,12,12,12,12,12,13,13,13,13,13,13,13,13,13,13,13,13,13,14,14,14,14,14,14,14,14,14,14,14,15,15,15,15,15,15,15,15,15,15,15,16,16,16,16,16,16,16,16,16,16,17,17,17,17,17,17,17,17,17,18,18,18,18,18,18,18,18,19,19,19,19,19,19,19,20,20,20,20,20,20,21,21,21,21,21,22,22,22,22,23,23,23,24,24,25],\"pesos_actuales\":[41,30,53,88,68,29,55,52,49,10,49,80,3,74,83,31,77,44,74,29,56,52,59,80,51,17,78,51,51,80,75,48,65,61,25,61,5,47,55,19,30,66,54,19,80,19,72,50,51,14,26,53,9,17,5,8,75,28,31,44,23,69,23,7,16,53,24,21,16,25,7,65,53,65,88,68,80,43,24,72,2,50,67,16,40,79,73,16,82,23,89,68,71,69,36,67,62,60,15,42,85,4,71,86,27,72,55,83,28,67,47,71,87,61,37,57,43,48,16,67,74,16,82,64,53,51,45,57,44,63,38,58,66,46,4,60,38,55,61,16,47,2,33,42,11,20,56,41,11,62,13,62,35,41,69,85,39,28,72,3,53,69,19,42,86,77,19,90,26,87,70,74,77,22,15,56,41,61,7,37,75,78,6,60,16,67,70,92,39,18,66,45,63,9,36,92,72,9,78,20,81,62,82,2,26,12,22,3,40,19,42,38,14,23,45,13,67,37,54,41,16,29,43,34,37,28,39,18,3,73,81,29,63,60,72,29,75,43,78,79,57,6,4,55,2,1,2,38,6,1,1,5,63,39,56,41,57,32,59,45,55,66,44,25,68,58,80,23,69,44,72,80,61,24,9,18,67,26,22,18,27,9,30,59,26,42,60,46,63,37,69,9,78,16,76,59,80,18,70,36,77,87,78,25,22,18,27,9,28,83,67,65,29,38,19,71,70,68]},\"code\":\"\\n    \\n    var datos_nodos = datum;\\n    var f = cb_obj.value;\\n    var n_nodos_inicio = [];\\n    var n_nodos_destino = [];\\n    var n_pesos = [];\\n    var n_indices = [];\\n\\n    var n1 = nodos_inicio_act.slice();\\n    var n2 = nodos_destino_act.slice();\\n    var p1 = pesos_actuales.slice();\\n    var limite = aristas;\\n    var index_ = indices_actuales;\\n\\n    for (i= 0; i < limite; i++) {\\n      if (p1[i] > f) {\\n        n_nodos_inicio.push(n1[i]);\\n        n_nodos_destino.push(n2[i]);\\n        n_pesos.push(p1[i]);\\n      }\\n    }\\n\\n    new_data_edge = {'start': n_nodos_inicio, 'end': n_nodos_destino};\\n    new_data_nodes = {'index': index_};\\n\\n    graph_setup.edge_renderer.data_source.data = new_data_edge; \\n    graph_setup.node_renderer.data_source.data = new_data_nodes;\\n    graph_setup.node_renderer.data_source.data['name'] = datos_nodos;\\n    \\n\"},\"id\":\"1069\",\"type\":\"CustomJS\"},{\"attributes\":{\"active_drag\":\"auto\",\"active_inspect\":\"auto\",\"active_multi\":null,\"active_scroll\":\"auto\",\"active_tap\":\"auto\",\"tools\":[{\"id\":\"1034\",\"type\":\"HoverTool\"},{\"id\":\"1035\",\"type\":\"TapTool\"},{\"id\":\"1036\",\"type\":\"BoxSelectTool\"}]},\"id\":\"1037\",\"type\":\"Toolbar\"},{\"attributes\":{\"callback\":null,\"tooltips\":[[\"Especie\",\"@name\"]]},\"id\":\"1034\",\"type\":\"HoverTool\"},{\"attributes\":{\"callback\":null,\"end\":1.1,\"start\":-1.1},\"id\":\"1001\",\"type\":\"Range1d\"},{\"attributes\":{\"text\":\"nicho_mx Interaccion Slider\"},\"id\":\"1006\",\"type\":\"Title\"},{\"attributes\":{},\"id\":\"1074\",\"type\":\"LinearScale\"},{\"attributes\":{},\"id\":\"1086\",\"type\":\"UnionRenderers\"},{\"attributes\":{\"callback\":null},\"id\":\"1035\",\"type\":\"TapTool\"},{\"attributes\":{\"callback\":null,\"end\":100,\"js_property_callbacks\":{\"change:value\":[{\"id\":\"1069\",\"type\":\"CustomJS\"}]},\"start\":1,\"title\":\"Umbral\",\"value\":1},\"id\":\"1070\",\"type\":\"Slider\"},{\"attributes\":{\"edge_renderer\":{\"id\":\"1023\",\"type\":\"GlyphRenderer\"},\"inspection_policy\":{\"id\":\"1067\",\"type\":\"NodesAndLinkedEdges\"},\"layout_provider\":{\"id\":\"1040\",\"type\":\"StaticLayoutProvider\"},\"node_renderer\":{\"id\":\"1010\",\"type\":\"GlyphRenderer\"},\"selection_policy\":{\"id\":\"1065\",\"type\":\"NodesAndLinkedEdges\"}},\"id\":\"1007\",\"type\":\"GraphRenderer\"},{\"attributes\":{},\"id\":\"1087\",\"type\":\"Selection\"},{\"attributes\":{},\"id\":\"1067\",\"type\":\"NodesAndLinkedEdges\"},{\"attributes\":{\"callback\":null,\"overlay\":{\"id\":\"1084\",\"type\":\"BoxAnnotation\"}},\"id\":\"1036\",\"type\":\"BoxSelectTool\"},{\"attributes\":{\"fill_color\":{\"value\":\"blue\"},\"size\":{\"units\":\"screen\",\"value\":15}},\"id\":\"1012\",\"type\":\"Circle\"},{\"attributes\":{\"callback\":null,\"end\":1.1,\"start\":-1.1},\"id\":\"1002\",\"type\":\"Range1d\"},{\"attributes\":{\"line_color\":{\"value\":\"#fdae61\"},\"line_width\":{\"value\":3}},\"id\":\"1055\",\"type\":\"MultiLine\"},{\"attributes\":{\"data_source\":{\"id\":\"1009\",\"type\":\"ColumnDataSource\"},\"glyph\":{\"id\":\"1012\",\"type\":\"Circle\"},\"hover_glyph\":{\"id\":\"1046\",\"type\":\"Circle\"},\"muted_glyph\":null,\"selection_glyph\":{\"id\":\"1041\",\"type\":\"Circle\"},\"view\":{\"id\":\"1011\",\"type\":\"CDSView\"}},\"id\":\"1010\",\"type\":\"GlyphRenderer\"},{\"attributes\":{\"data_source\":{\"id\":\"1022\",\"type\":\"ColumnDataSource\"},\"glyph\":{\"id\":\"1029\",\"type\":\"MultiLine\"},\"hover_glyph\":{\"id\":\"1060\",\"type\":\"MultiLine\"},\"muted_glyph\":null,\"selection_glyph\":{\"id\":\"1055\",\"type\":\"MultiLine\"},\"view\":{\"id\":\"1024\",\"type\":\"CDSView\"}},\"id\":\"1023\",\"type\":\"GlyphRenderer\"},{\"attributes\":{\"source\":{\"id\":\"1022\",\"type\":\"ColumnDataSource\"}},\"id\":\"1024\",\"type\":\"CDSView\"},{\"attributes\":{\"source\":{\"id\":\"1009\",\"type\":\"ColumnDataSource\"}},\"id\":\"1011\",\"type\":\"CDSView\"},{\"attributes\":{},\"id\":\"1088\",\"type\":\"UnionRenderers\"},{\"attributes\":{\"plot_height\":500,\"plot_width\":900,\"renderers\":[{\"id\":\"1007\",\"type\":\"GraphRenderer\"}],\"title\":{\"id\":\"1006\",\"type\":\"Title\"},\"toolbar\":{\"id\":\"1037\",\"type\":\"Toolbar\"},\"x_range\":{\"id\":\"1001\",\"type\":\"Range1d\"},\"x_scale\":{\"id\":\"1074\",\"type\":\"LinearScale\"},\"y_range\":{\"id\":\"1002\",\"type\":\"Range1d\"},\"y_scale\":{\"id\":\"1073\",\"type\":\"LinearScale\"}},\"id\":\"1003\",\"type\":\"Plot\"}],\"root_ids\":[\"1071\"]},\"title\":\"Bokeh Application\",\"version\":\"1.4.0\"}};\n",
              "  var render_items = [{\"docid\":\"2f751a8d-e01b-4e8f-a896-f6e4eee4ba76\",\"roots\":{\"1071\":\"f91636eb-2252-4d82-a563-b7e164674f31\"}}];\n",
              "  root.Bokeh.embed.embed_items_notebook(docs_json, render_items);\n",
              "\n",
              "  }\n",
              "  if (root.Bokeh !== undefined) {\n",
              "    embed_document(root);\n",
              "  } else {\n",
              "    var attempts = 0;\n",
              "    var timer = setInterval(function(root) {\n",
              "      if (root.Bokeh !== undefined) {\n",
              "        clearInterval(timer);\n",
              "        embed_document(root);\n",
              "      } else {\n",
              "        attempts++;\n",
              "        if (attempts > 100) {\n",
              "          clearInterval(timer);\n",
              "          console.log(\"Bokeh: ERROR: Unable to run BokehJS code because BokehJS library is missing\");\n",
              "        }\n",
              "      }\n",
              "    }, 10, root)\n",
              "  }\n",
              "})(window);"
            ],
            "application/vnd.bokehjs_exec.v0+json": ""
          },
          "metadata": {
            "tags": [],
            "application/vnd.bokehjs_exec.v0+json": {
              "id": "1071"
            }
          }
        },
        {
          "output_type": "execute_result",
          "data": {
            "text/plain": [
              "'\\nNota personal\\n\\nsi te manda error RuntimeError: Models must be owned by only a single document\\n\\nReinicia el entorno de ejecucion para borrar variables locales almacenadas \\npor Python\\n\\nBokeh no admite que se compartan datos entre diferentes sesiones por seguridad.\\nPython si permite que en diferentes sesiones(ejecuciones) se guarden\\nvariables locales, lo que no es compactible con Bokeh.\\n\\n'"
            ]
          },
          "metadata": {
            "tags": []
          },
          "execution_count": 16
        }
      ]
    },
    {
      "cell_type": "markdown",
      "metadata": {
        "id": "im-0bhKWGydL",
        "colab_type": "text"
      },
      "source": [
        ""
      ]
    },
    {
      "cell_type": "code",
      "metadata": {
        "id": "SVrLe2KXGxcq",
        "colab_type": "code",
        "colab": {}
      },
      "source": [
        ""
      ],
      "execution_count": null,
      "outputs": []
    }
  ]
}
