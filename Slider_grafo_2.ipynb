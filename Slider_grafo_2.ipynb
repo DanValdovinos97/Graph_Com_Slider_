{
  "nbformat": 4,
  "nbformat_minor": 0,
  "metadata": {
    "colab": {
      "name": "Slider_grafo_2.ipynb",
      "provenance": [],
      "collapsed_sections": []
    },
    "kernelspec": {
      "name": "python3",
      "display_name": "Python 3"
    }
  },
  "cells": [
    {
      "cell_type": "code",
      "metadata": {
        "id": "tqBZJAkNOL7C",
        "colab_type": "code",
        "colab": {}
      },
      "source": [
        "#Librerias de Bokeh\n",
        "\n",
        "import itertools\n",
        "from itertools import combinations\n",
        "import networkx as nx\n",
        "from networkx.algorithms import community\n",
        "import pandas as pd\n",
        "from bokeh.io import show, output_notebook, output_file\n",
        "from bokeh.models import Plot, Range1d, MultiLine, Circle, HoverTool, TapTool, BoxSelectTool, CustomJS, Slider, Column\n",
        "from bokeh.models import GraphRenderer, StaticLayoutProvider\n",
        "from bokeh.models.graphs import from_networkx, NodesAndLinkedEdges, EdgesAndLinkedNodes\n",
        "from bokeh.palettes import Spectral4\n",
        "from bokeh.models import LabelSet\n",
        "import matplotlib.pyplot as plt\n"
      ],
      "execution_count": 1,
      "outputs": []
    },
    {
      "cell_type": "code",
      "metadata": {
        "id": "9Cv0x_FOOXGy",
        "colab_type": "code",
        "colab": {
          "base_uri": "https://localhost:8080/",
          "height": 35
        },
        "outputId": "d013b6bf-a402-4954-91ca-767b8dd3b735"
      },
      "source": [
        "#Datos\n",
        "\n",
        "from google.colab import drive\n",
        "drive.mount('/content/drive')\n",
        "\n",
        "matriz = pd.read_csv('/content/drive/My Drive/br_1.csv')"
      ],
      "execution_count": 17,
      "outputs": [
        {
          "output_type": "stream",
          "text": [
            "Drive already mounted at /content/drive; to attempt to forcibly remount, call drive.mount(\"/content/drive\", force_remount=True).\n"
          ],
          "name": "stdout"
        }
      ]
    },
    {
      "cell_type": "code",
      "metadata": {
        "id": "DdDAMCAnOusg",
        "colab_type": "code",
        "colab": {
          "base_uri": "https://localhost:8080/",
          "height": 563
        },
        "outputId": "25a573a2-1628-414e-a41c-906718fa096e"
      },
      "source": [
        "#Preprocesamiento para obtener etiquetas y matriz de adjacencia\n",
        "\n",
        "etiquetas = dict(matriz[\"Unnamed: 1\"]) \n",
        "#etiquetas matriz adjacencia\n",
        "\n",
        "matriz_1 = matriz.drop( columns=['Unnamed: 0']) #matriz sin columna ID\n",
        "print(matriz_1)\n",
        "\n",
        "matriz_adj = matriz_1.drop(columns='Unnamed: 1') #matriz adjacencia\n",
        "matriz_adj = matriz_adj.to_numpy()"
      ],
      "execution_count": 18,
      "outputs": [
        {
          "output_type": "stream",
          "text": [
            "   Unnamed: 1   A   B   C   D   E   F   G  ...   S   T   U   V   W   X   Y   Z\n",
            "0           A   0  41  30  53  88  68  29  ...  44  74  29  56  52  59  80  51\n",
            "1           B  41   0  17  78  51  51  80  ...  66  54  19  80  19  72  50  51\n",
            "2           C  30  17   0  14  26  53   9  ...   7  16  53  24  21  16  25   7\n",
            "3           D  53  78  14   0  65  53  65  ...  79  73  16  82  23  89  68  71\n",
            "4           E  88  51  26  65   0  69  36  ...  55  83  28  67  47  71  87  61\n",
            "5           F  68  51  53  53  69   0  37  ...  45  57  44  63  38  58  66  46\n",
            "6           G  29  80   9  65  36  37   0  ...  56  41  11  62  13  62  35  41\n",
            "7           H   0   0   0   0   0   0   4  ...   0   0   0   0   0   0   0   0\n",
            "8           I  55  75  17  88  67  57  60  ...  86  77  19  90  26  87  70  74\n",
            "9           J  52  48   5  68  62  43  38  ...  75  78   6  60  16  67  70  92\n",
            "10          K  49  65   8  80  60  48  55  ...  92  72   9  78  20  81  62  82\n",
            "11          L  10  61   0  43  15  16  61  ...  40  19   0  42   0  38  14  23\n",
            "12          M  49  25  75  24  42  67  16  ...  16  29  43  34  37  28  39  18\n",
            "13          N  80  61  28  72  85  74  47  ...  60  72  29  75  43  78  79  57\n",
            "14         N+   3   5  31   2   4  16   2  ...   1   2  38   6   1   1   5   0\n",
            "15          O  74  47  44  50  71  82  33  ...  41  57  32  59  45  55  66  44\n",
            "16          P  83  55  23  67  86  64  42  ...  58  80  23  69  44  72  80  61\n",
            "17          K  31  19  69  16  27  53  11  ...   9  18  67  26  22  18  27   9\n",
            "18          R  77  30  23  40  72  51  20  ...  30  59  26  42  60  46  63  37\n",
            "19          S  44  66   7  79  55  45  56  ...   0  69   9  78  16  76  59  80\n",
            "20          T  74  54  16  73  83  57  41  ...  69   0  18  70  36  77  87  78\n",
            "21          U  29  19  53  16  28  44  11  ...   9  18   0  25  22  18  27   9\n",
            "22          V  56  80  24  82  67  63  62  ...  78  70  25   0  28  83  67  65\n",
            "23          W  52  19  21  23  47  38  13  ...  16  36  22  28   0  29  38  19\n",
            "24          X  59  72  16  89  71  58  62  ...  76  77  18  83  29   0  71  70\n",
            "25          Y  80  50  25  68  87  66  35  ...  59  87  27  67  38  71   0  68\n",
            "26          Z  51  51   7  71  61  46  41  ...  80  78   9  65  19  70  68   0\n",
            "\n",
            "[27 rows x 28 columns]\n"
          ],
          "name": "stdout"
        }
      ]
    },
    {
      "cell_type": "code",
      "metadata": {
        "id": "xBwzHTNZOwQt",
        "colab_type": "code",
        "colab": {
          "base_uri": "https://localhost:8080/",
          "height": 126
        },
        "outputId": "e993542b-f179-4ed4-c7a7-cdbabdcb843f"
      },
      "source": [
        "#Generador de grafo de matriz de adjacencia\n",
        "\n",
        "Grafo_ = nx.from_numpy_matrix(matriz_adj)\n",
        "\n",
        "print(nx.info(Grafo_))\n",
        "print(\"Weighted edges: \" + str(nx.is_weighted(Grafo_)))\n"
      ],
      "execution_count": 19,
      "outputs": [
        {
          "output_type": "stream",
          "text": [
            "Name: \n",
            "Type: Graph\n",
            "Number of nodes: 27\n",
            "Number of edges: 318\n",
            "Average degree:  23.5556\n",
            "Weighted edges: True\n"
          ],
          "name": "stdout"
        }
      ]
    },
    {
      "cell_type": "code",
      "metadata": {
        "id": "d2BVdlXK2R3W",
        "colab_type": "code",
        "colab": {
          "base_uri": "https://localhost:8080/",
          "height": 72
        },
        "outputId": "5dc99a25-6a18-42d0-ed5b-86d4126bd4ee"
      },
      "source": [
        "G= Grafo_\n",
        "\n",
        "#Conversion de formato de informacion de grafo de NetworkX\n",
        "nodos_grafo = list(G.nodes)\n",
        "dict_aristas_grafo = dict(G.edges)\n",
        "\n",
        "aristas_ = list(dict_aristas_grafo.keys()) #lista con tuplas (nodo init,nodo fin)\n",
        "pesos_ = list(dict_aristas_grafo.values())\n",
        "\n",
        "no_aristas = len(aristas_) #Numero de aristas en grafo\n",
        "\n",
        "nodos_inicio = [] #lista con nodos donde inicia una arista\n",
        "nodos_destino = [] #lista con nodos donde termina una arista\n",
        "pesos_aristas = [] #lista peso de cada arista en el grafo\n",
        "\n",
        "for i in range(len(aristas_)):\n",
        "  ar = list(aristas_[i])\n",
        "  pesos_aristas.append(pesos_[i]['weight']) \n",
        "  nodos_inicio.append(ar[0])\n",
        "  nodos_destino.append(ar[1])\n",
        "\n",
        "\"\"\"\n",
        "Se crean dos listas, una con los nodos de inicio de cada arista\n",
        "y otra con los nodos de destino de cada arista.\n",
        "\n",
        "Esto con el fin de poder pasarlos como argumentos a la funcion\n",
        "graph_.edge_renderer.data_source.data que requiere que se le pasen\n",
        "dos columnas \"start\" y \"end\" que contengan los indice de cada nodo en \n",
        "cada arista\n",
        "\"\"\"\n"
      ],
      "execution_count": 20,
      "outputs": [
        {
          "output_type": "execute_result",
          "data": {
            "application/vnd.google.colaboratory.intrinsic+json": {
              "type": "string"
            },
            "text/plain": [
              "'\\nSe crean dos listas, una con los nodos de inicio de cada arista\\ny otra con los nodos de destino de cada arista.\\n\\nEsto con el fin de poder pasarlos como argumentos a la funcion\\ngraph_.edge_renderer.data_source.data que requiere que se le pasen\\ndos columnas \"start\" y \"end\" que contengan los indice de cada nodo en \\ncada arista\\n'"
            ]
          },
          "metadata": {
            "tags": []
          },
          "execution_count": 20
        }
      ]
    },
    {
      "cell_type": "markdown",
      "metadata": {
        "id": "figCF1IUaCTF",
        "colab_type": "text"
      },
      "source": [
        "Filtrado por Método de Codo"
      ]
    },
    {
      "cell_type": "code",
      "metadata": {
        "id": "F2gNMOro7viq",
        "colab_type": "code",
        "colab": {
          "base_uri": "https://localhost:8080/",
          "height": 369
        },
        "outputId": "548a5bfc-59cf-42e1-975f-1db5d3e3bfcf"
      },
      "source": [
        "# print(\"Pesos_aristas: \")\n",
        "print(pesos_aristas)\n",
        "\n",
        "l2 = [0] * (max(pesos_aristas) + 1)\n",
        "#lista vacia del numero de aristas que poseen\n",
        "# cada valor de peso de aristas existente\n",
        "\n",
        "for i in pesos_aristas:\n",
        "  l2[i] += 1\n",
        "\n",
        "#a cada peso de valor i se aumenta el contador\n",
        "# si hay una arista con ese peso\n",
        "print(\"Distribucion de pesos: \")\n",
        "print(l2)\n",
        "\n",
        "plt.plot(range(0,max(pesos_aristas)+1), l2, 'bo--')\n",
        "plt.title(\"Distribucion de frecuencias Pesos en Aristas\")\n",
        "plt.ylabel(\"No. de Aristas\")\n",
        "plt.xlabel(\"Pesos\")\n",
        "plt.show()\n",
        "\n"
      ],
      "execution_count": 21,
      "outputs": [
        {
          "output_type": "stream",
          "text": [
            "[41, 30, 53, 88, 68, 29, 55, 52, 49, 10, 49, 80, 3, 74, 83, 31, 77, 44, 74, 29, 56, 52, 59, 80, 51, 17, 78, 51, 51, 80, 75, 48, 65, 61, 25, 61, 5, 47, 55, 19, 30, 66, 54, 19, 80, 19, 72, 50, 51, 14, 26, 53, 9, 17, 5, 8, 75, 28, 31, 44, 23, 69, 23, 7, 16, 53, 24, 21, 16, 25, 7, 65, 53, 65, 88, 68, 80, 43, 24, 72, 2, 50, 67, 16, 40, 79, 73, 16, 82, 23, 89, 68, 71, 69, 36, 67, 62, 60, 15, 42, 85, 4, 71, 86, 27, 72, 55, 83, 28, 67, 47, 71, 87, 61, 37, 57, 43, 48, 16, 67, 74, 16, 82, 64, 53, 51, 45, 57, 44, 63, 38, 58, 66, 46, 4, 60, 38, 55, 61, 16, 47, 2, 33, 42, 11, 20, 56, 41, 11, 62, 13, 62, 35, 41, 69, 85, 39, 28, 72, 3, 53, 69, 19, 42, 86, 77, 19, 90, 26, 87, 70, 74, 77, 22, 15, 56, 41, 61, 7, 37, 75, 78, 6, 60, 16, 67, 70, 92, 39, 18, 66, 45, 63, 9, 36, 92, 72, 9, 78, 20, 81, 62, 82, 2, 26, 12, 22, 3, 40, 19, 42, 38, 14, 23, 45, 13, 67, 37, 54, 41, 16, 29, 43, 34, 37, 28, 39, 18, 3, 73, 81, 29, 63, 60, 72, 29, 75, 43, 78, 79, 57, 6, 4, 55, 2, 1, 2, 38, 6, 1, 1, 5, 63, 39, 56, 41, 57, 32, 59, 45, 55, 66, 44, 25, 68, 58, 80, 23, 69, 44, 72, 80, 61, 24, 9, 18, 67, 26, 22, 18, 27, 9, 30, 59, 26, 42, 60, 46, 63, 37, 69, 9, 78, 16, 76, 59, 80, 18, 70, 36, 77, 87, 78, 25, 22, 18, 27, 9, 28, 83, 67, 65, 29, 38, 19, 71, 70, 68]\n",
            "Distribucion de pesos: \n",
            "[0, 3, 5, 4, 3, 3, 3, 3, 1, 7, 1, 2, 1, 2, 2, 2, 10, 2, 6, 7, 2, 1, 4, 5, 3, 4, 5, 3, 5, 6, 3, 2, 1, 1, 1, 1, 3, 5, 5, 4, 2, 6, 5, 4, 5, 4, 2, 3, 2, 2, 2, 5, 2, 6, 2, 6, 4, 4, 2, 4, 5, 6, 4, 5, 1, 4, 4, 8, 5, 6, 4, 4, 7, 2, 4, 4, 1, 4, 6, 2, 8, 2, 3, 3, 0, 2, 2, 3, 2, 1, 1, 0, 2]\n"
          ],
          "name": "stdout"
        },
        {
          "output_type": "display_data",
          "data": {
            "image/png": "[encoded data removed]",
            "text/plain": [
              "<Figure size 432x288 with 1 Axes>"
            ]
          },
          "metadata": {
            "tags": [],
            "needs_background": "light"
          }
        }
      ]
    },
    {
      "cell_type": "code",
      "metadata": {
        "id": "bWaLXBWWffbD",
        "colab_type": "code",
        "colab": {
          "base_uri": "https://localhost:8080/",
          "height": 295
        },
        "outputId": "1b059fdb-8c11-453d-92e1-2b5849e0e6c0"
      },
      "source": [
        "d_p_aristas = dict(zip(list(G.edges()),pesos_aristas))\n",
        "#diccionario de (arista,peso)\n",
        "d_p_aristas = {k: v for k, v in sorted(d_p_aristas.items(), key=lambda item: item[1])}\n",
        "#reordenamiendo de menor a mayor por value\n",
        "\n",
        "plt.plot(range(0, len(pesos_aristas)), list(d_p_aristas.values()), 'bo--')\n",
        "plt.title(\"Distribucion de Peso por Aristas ordenadas\")\n",
        "plt.ylabel(\"Peso\")\n",
        "plt.xlabel(\"Aristas\")\n",
        "plt.show()\n"
      ],
      "execution_count": 23,
      "outputs": [
        {
          "output_type": "display_data",
          "data": {
            "image/png": "[encoded data removed]",
            "text/plain": [
              "<Figure size 432x288 with 1 Axes>"
            ]
          },
          "metadata": {
            "tags": [],
            "needs_background": "light"
          }
        }
      ]
    },
    {
      "cell_type": "markdown",
      "metadata": {
        "id": "5wDhmVq7aPfI",
        "colab_type": "text"
      },
      "source": [
        "Detección de Comunidades con Girvan-Newman"
      ]
    },
    {
      "cell_type": "code",
      "metadata": {
        "id": "CVpsLiRTAFXU",
        "colab_type": "code",
        "colab": {}
      },
      "source": [
        "codo = 125 #escogido por conveniencia viendo el grafico"
      ],
      "execution_count": 24,
      "outputs": []
    },
    {
      "cell_type": "code",
      "metadata": {
        "id": "ahrHnB5yQqtW",
        "colab_type": "code",
        "colab": {
          "base_uri": "https://localhost:8080/",
          "height": 35
        },
        "outputId": "673ead34-3200-4f35-ae98-a93d0c1b4b7d"
      },
      "source": [
        "### Filtro de aristas para aplicar G-N\n",
        "\n",
        "umbral = d_p_aristas[list(d_p_aristas)[codo]] #umbral de filtro\n",
        "print(\"Umbral de peso de corte = \" + str(umbral))\n",
        "# se determina de la grafica \"Distribucion de Pesos en Aristas\"\n",
        "# para eliminar aristas que aportan poca info -> de poco peso\n",
        "\n",
        "#se escoge umbral=20 por la gran cantidad de aristas con peso\n",
        "# menor a 20\n",
        "\n",
        "def filter_edge(n1, n2):\n",
        "  arista_temp = Grafo_[n1][n2]\n",
        "  if arista_temp['weight'] > umbral:\n",
        "    return (n1, n2) \n",
        "\n",
        "\"\"\"\n",
        "filter_edge es una funcion de filtro para aristas de un grafo\n",
        "\n",
        "devuelve aquellas aristas (n1,n2) cuyo peso es mayor que umbral\n",
        "\"\"\"\n",
        "\n",
        "subgrafo_filter = nx.subgraph_view(Grafo_, filter_edge=filter_edge)\n",
        "#subgraph_view permite extraer subgrafos de un grafo original con filtros\n",
        "\n",
        "#Crear Subgrafo filtrado\n",
        "subgrafo_ = nx.Graph()\n",
        "subgrafo_.add_nodes_from(subgrafo_filter.nodes)\n",
        "subgrafo_.add_edges_from(subgrafo_filter.edges)"
      ],
      "execution_count": 25,
      "outputs": [
        {
          "output_type": "stream",
          "text": [
            "Umbral de peso de corte = 38\n"
          ],
          "name": "stdout"
        }
      ]
    },
    {
      "cell_type": "code",
      "metadata": {
        "id": "5oY44hi3QzQp",
        "colab_type": "code",
        "colab": {
          "base_uri": "https://localhost:8080/",
          "height": 965
        },
        "outputId": "8e819b8d-1053-4dc5-d17c-7d975334c0c4"
      },
      "source": [
        "\n",
        "###Deteccion de comunidades con Girvan-Newman\n",
        "\n",
        "com = community.girvan_newman(subgrafo_)\n",
        "a = list(com)\n",
        "print('Niveles de Comunidades = ' + str(len(a)))\n",
        "for i in range(25):\n",
        "  print(\"Nivel \"+ str(i))\n",
        "  print(a[i])"
      ],
      "execution_count": 26,
      "outputs": [
        {
          "output_type": "stream",
          "text": [
            "Niveles de Comunidades = 25\n",
            "Nivel 0\n",
            "({0, 1, 2, 3, 4, 5, 6, 8, 9, 10, 11, 12, 13, 15, 16, 17, 18, 19, 20, 21, 22, 23, 24, 25, 26}, {7}, {14})\n",
            "Nivel 1\n",
            "({0, 1, 3, 4, 5, 6, 8, 9, 10, 11, 12, 13, 15, 16, 18, 19, 20, 22, 23, 24, 25, 26}, {17, 2, 21}, {7}, {14})\n",
            "Nivel 2\n",
            "({0, 1, 3, 4, 5, 6, 8, 9, 10, 11, 12, 13, 15, 16, 18, 19, 20, 22, 24, 25, 26}, {17, 2, 21}, {7}, {14}, {23})\n",
            "Nivel 3\n",
            "({0, 1, 3, 4, 5, 6, 8, 9, 10, 11, 13, 15, 16, 18, 19, 20, 22, 24, 25, 26}, {17, 2, 21}, {7}, {12}, {14}, {23})\n",
            "Nivel 4\n",
            "({0, 1, 3, 4, 5, 6, 8, 9, 10, 13, 15, 16, 18, 19, 20, 22, 24, 25, 26}, {17, 2, 21}, {7}, {11}, {12}, {14}, {23})\n",
            "Nivel 5\n",
            "({0, 1, 3, 4, 5, 8, 9, 10, 13, 15, 16, 18, 19, 20, 22, 24, 25, 26}, {17, 2, 21}, {6}, {7}, {11}, {12}, {14}, {23})\n",
            "Nivel 6\n",
            "({0, 1, 3, 4, 5, 8, 9, 10, 13, 15, 16, 19, 20, 22, 24, 25, 26}, {17, 2, 21}, {6}, {7}, {11}, {12}, {14}, {18}, {23})\n",
            "Nivel 7\n",
            "({0}, {1, 3, 4, 5, 8, 9, 10, 13, 15, 16, 19, 20, 22, 24, 25, 26}, {17, 2, 21}, {6}, {7}, {11}, {12}, {14}, {18}, {23})\n",
            "Nivel 8\n",
            "({0}, {1}, {17, 2, 21}, {3, 4, 5, 8, 9, 10, 13, 15, 16, 19, 20, 22, 24, 25, 26}, {6}, {7}, {11}, {12}, {14}, {18}, {23})\n",
            "Nivel 9\n",
            "({0}, {1}, {2}, {3, 4, 5, 8, 9, 10, 13, 15, 16, 19, 20, 22, 24, 25, 26}, {6}, {7}, {11}, {12}, {14}, {17, 21}, {18}, {23})\n",
            "Nivel 10\n",
            "({0}, {1}, {2}, {3}, {4, 5, 8, 9, 10, 13, 15, 16, 19, 20, 22, 24, 25, 26}, {6}, {7}, {11}, {12}, {14}, {17, 21}, {18}, {23})\n",
            "Nivel 11\n",
            "({0}, {1}, {2}, {3}, {4}, {5, 8, 9, 10, 13, 15, 16, 19, 20, 22, 24, 25, 26}, {6}, {7}, {11}, {12}, {14}, {17, 21}, {18}, {23})\n",
            "Nivel 12\n",
            "({0}, {1}, {2}, {3}, {4}, {5}, {6}, {7}, {8, 9, 10, 13, 15, 16, 19, 20, 22, 24, 25, 26}, {11}, {12}, {14}, {17, 21}, {18}, {23})\n",
            "Nivel 13\n",
            "({0}, {1}, {2}, {3}, {4}, {5}, {6}, {7}, {8}, {9, 10, 13, 15, 16, 19, 20, 22, 24, 25, 26}, {11}, {12}, {14}, {17, 21}, {18}, {23})\n",
            "Nivel 14\n",
            "({0}, {1}, {2}, {3}, {4}, {5}, {6}, {7}, {8}, {9}, {10, 13, 15, 16, 19, 20, 22, 24, 25, 26}, {11}, {12}, {14}, {17, 21}, {18}, {23})\n",
            "Nivel 15\n",
            "({0}, {1}, {2}, {3}, {4}, {5}, {6}, {7}, {8}, {9}, {10}, {11}, {12}, {13, 15, 16, 19, 20, 22, 24, 25, 26}, {14}, {17, 21}, {18}, {23})\n",
            "Nivel 16\n",
            "({0}, {1}, {2}, {3}, {4}, {5}, {6}, {7}, {8}, {9}, {10}, {11}, {12}, {13}, {14}, {15, 16, 19, 20, 22, 24, 25, 26}, {17, 21}, {18}, {23})\n",
            "Nivel 17\n",
            "({0}, {1}, {2}, {3}, {4}, {5}, {6}, {7}, {8}, {9}, {10}, {11}, {12}, {13}, {14}, {15}, {16, 19, 20, 22, 24, 25, 26}, {17, 21}, {18}, {23})\n",
            "Nivel 18\n",
            "({0}, {1}, {2}, {3}, {4}, {5}, {6}, {7}, {8}, {9}, {10}, {11}, {12}, {13}, {14}, {15}, {16}, {17, 21}, {18}, {19, 20, 22, 24, 25, 26}, {23})\n",
            "Nivel 19\n",
            "({0}, {1}, {2}, {3}, {4}, {5}, {6}, {7}, {8}, {9}, {10}, {11}, {12}, {13}, {14}, {15}, {16}, {17}, {18}, {19, 20, 22, 24, 25, 26}, {21}, {23})\n",
            "Nivel 20\n",
            "({0}, {1}, {2}, {3}, {4}, {5}, {6}, {7}, {8}, {9}, {10}, {11}, {12}, {13}, {14}, {15}, {16}, {17}, {18}, {19}, {20, 22, 24, 25, 26}, {21}, {23})\n",
            "Nivel 21\n",
            "({0}, {1}, {2}, {3}, {4}, {5}, {6}, {7}, {8}, {9}, {10}, {11}, {12}, {13}, {14}, {15}, {16}, {17}, {18}, {19}, {20}, {21}, {24, 25, 26, 22}, {23})\n",
            "Nivel 22\n",
            "({0}, {1}, {2}, {3}, {4}, {5}, {6}, {7}, {8}, {9}, {10}, {11}, {12}, {13}, {14}, {15}, {16}, {17}, {18}, {19}, {20}, {21}, {22}, {23}, {24, 25, 26})\n",
            "Nivel 23\n",
            "({0}, {1}, {2}, {3}, {4}, {5}, {6}, {7}, {8}, {9}, {10}, {11}, {12}, {13}, {14}, {15}, {16}, {17}, {18}, {19}, {20}, {21}, {22}, {23}, {24}, {25, 26})\n",
            "Nivel 24\n",
            "({0}, {1}, {2}, {3}, {4}, {5}, {6}, {7}, {8}, {9}, {10}, {11}, {12}, {13}, {14}, {15}, {16}, {17}, {18}, {19}, {20}, {21}, {22}, {23}, {24}, {25}, {26})\n"
          ],
          "name": "stdout"
        }
      ]
    },
    {
      "cell_type": "markdown",
      "metadata": {
        "id": "7Ie66moiaHj8",
        "colab_type": "text"
      },
      "source": [
        "Obtención de acomodo Spectral Layout"
      ]
    },
    {
      "cell_type": "code",
      "metadata": {
        "id": "iJIDmKsnroQA",
        "colab_type": "code",
        "colab": {
          "base_uri": "https://localhost:8080/",
          "height": 35
        },
        "outputId": "143b7021-3f32-4ec0-e6a0-c24b114f96e9"
      },
      "source": [
        "print(list(combinations([1,2,3,4,5],2)))"
      ],
      "execution_count": 27,
      "outputs": [
        {
          "output_type": "stream",
          "text": [
            "[(1, 2), (1, 3), (1, 4), (1, 5), (2, 3), (2, 4), (2, 5), (3, 4), (3, 5), (4, 5)]\n"
          ],
          "name": "stdout"
        }
      ]
    },
    {
      "cell_type": "code",
      "metadata": {
        "id": "izElWa5z-Vpw",
        "colab_type": "code",
        "colab": {
          "base_uri": "https://localhost:8080/",
          "height": 55
        },
        "outputId": "240576b3-b456-43e1-cf9d-d92c3d89d4c1"
      },
      "source": [
        "L_novos_aristas = []\n",
        "corte_comunidades = 16\n",
        "s_G = nx.Graph()\n",
        "s_G.add_nodes_from(Grafo_.nodes())\n",
        "\n",
        "for comunidad in a[corte_comunidades]:\n",
        "  \n",
        "  n_aristas = list(combinations(comunidad,2))\n",
        "\n",
        "  #data = False para eliminar pesos de aristas al copiar\n",
        "  s_G.add_edges_from(n_aristas) #agregar aristas a nuevo grafo\n",
        "  L_novos_aristas.append(n_aristas)\n",
        "\n",
        "print(s_G.edges.data(data=True))"
      ],
      "execution_count": 28,
      "outputs": [
        {
          "output_type": "stream",
          "text": [
            "[(15, 16, {}), (15, 19, {}), (15, 20, {}), (15, 22, {}), (15, 24, {}), (15, 25, {}), (15, 26, {}), (16, 19, {}), (16, 20, {}), (16, 22, {}), (16, 24, {}), (16, 25, {}), (16, 26, {}), (17, 21, {}), (19, 20, {}), (19, 22, {}), (19, 24, {}), (19, 25, {}), (19, 26, {}), (20, 22, {}), (20, 24, {}), (20, 25, {}), (20, 26, {}), (22, 24, {}), (22, 25, {}), (22, 26, {}), (24, 25, {}), (24, 26, {}), (25, 26, {})]\n"
          ],
          "name": "stdout"
        }
      ]
    },
    {
      "cell_type": "code",
      "metadata": {
        "id": "m9EZvSl9WFRv",
        "colab_type": "code",
        "colab": {
          "base_uri": "https://localhost:8080/",
          "height": 264
        },
        "outputId": "92053d6d-2980-4089-ecaf-fa110473ecae"
      },
      "source": [
        "\n",
        "position_subgrafo_ = nx.spring_layout(s_G, weight=None, scale=1)\n",
        "\n",
        "#Funcion para dibujar subgrafo con etiquetas\n",
        "\n",
        "\n",
        "nx.draw_networkx(s_G, \n",
        "                pos = position_subgrafo_, with_labels = False)\n",
        "\n",
        "nx.draw_networkx_labels(s_G, \n",
        "                        pos = position_subgrafo_,\n",
        "                        labels= etiquetas)\n",
        "\n",
        "#pos = posicion de nodos en plot\n",
        "\n",
        "plt.title(\"br_1 Umbral = \" + str(umbral))\n",
        "plt.show()\n"
      ],
      "execution_count": 83,
      "outputs": [
        {
          "output_type": "display_data",
          "data": {
            "image/png": "[encoded data removed]",
            "text/plain": [
              "<Figure size 432x288 with 1 Axes>"
            ]
          },
          "metadata": {
            "tags": []
          }
        }
      ]
    },
    {
      "cell_type": "code",
      "metadata": {
        "id": "Rx6Vgkuhy9Ff",
        "colab_type": "code",
        "colab": {
          "base_uri": "https://localhost:8080/",
          "height": 35
        },
        "outputId": "a1e58844-4d7a-4d13-b967-02f9eecff501"
      },
      "source": [
        "print(list(etiquetas.values()))"
      ],
      "execution_count": 84,
      "outputs": [
        {
          "output_type": "stream",
          "text": [
            "['A', 'B', 'C', 'D', 'E', 'F', 'G', 'H', 'I', 'J', 'K', 'L', 'M', 'N', 'N+', 'O', 'P', 'K', 'R', 'S', 'T', 'U', 'V', 'W', 'X', 'Y', 'Z']\n"
          ],
          "name": "stdout"
        }
      ]
    },
    {
      "cell_type": "code",
      "metadata": {
        "id": "qTTPJHWTxoPe",
        "colab_type": "code",
        "colab": {}
      },
      "source": [
        "#pos_grafo = nx.circular_layout(G) #posicion espacial de nodos\n",
        "#puede ser con circular_layout o spectral_layout\n",
        "pos_grafo = position_subgrafo_\n",
        "\n",
        "output_notebook()\n",
        "\n",
        "plot = Plot(plot_width=900, plot_height=500,\n",
        "            x_range=Range1d(-1.1,1.1), y_range=Range1d(-1.1,1.1))\n",
        "plot.title.text = \"br_1 Interaccion Slider\"\n",
        "\n",
        "datos_nodos = list(matriz_1['Unnamed: 1']) #datos nombre nodos\n",
        "\n",
        "#Dibujar grafo \n",
        "graph_ = GraphRenderer()\n",
        "\n",
        "# Nodos\n",
        "graph_.node_renderer.data_source.add(nodos_grafo, 'index') #datos index nodos\n",
        "graph_.node_renderer.glyph = Circle(size=15, fill_color='blue')\n",
        "\n",
        "#Obtener datos para cada nodo\n",
        "graph_.node_renderer.data_source.data['name'] = datos_nodos\n",
        "\n",
        "# Aristas\n",
        "graph_.edge_renderer.data_source.data = dict(\n",
        "    start= nodos_inicio,\n",
        "    end= nodos_destino) #definir datos de aristas\n",
        "graph_.edge_renderer.data_source.add(pesos_aristas, \"Weights\")\n",
        "graph_.edge_renderer.glyph = MultiLine(line_color=\"#CCCCCC\",\n",
        "                                       line_alpha=0.8,\n",
        "                                       line_width=1)\n",
        "\n",
        "\n",
        "#Herramientas para seleccionar y mostrar nodos\n",
        "hover = HoverTool(tooltips=[(\"Nodo\", \"@name\")])\n",
        "plot.add_tools(hover, TapTool(), BoxSelectTool())\n",
        "\n",
        "\n",
        "#Posicion espacial de nodos\n",
        "graph_.layout_provider = StaticLayoutProvider(graph_layout = pos_grafo)\n",
        "plot.renderers.append(graph_)"
      ],
      "execution_count": 85,
      "outputs": []
    },
    {
      "cell_type": "code",
      "metadata": {
        "id": "Mwu52ymCxwn4",
        "colab_type": "code",
        "colab": {}
      },
      "source": [
        "#Configuracion nodos y aristas en las interacciones\n",
        "\n",
        "graph_.node_renderer.selection_glyph = Circle(size=15, fill_color=Spectral4[2])\n",
        "graph_.node_renderer.hover_glyph = Circle(size=15, fill_color=Spectral4[1])\n",
        "graph_.node_renderer.glyph.properties_with_values()\n",
        "\n",
        "graph_.edge_renderer.selection_glyph = MultiLine(line_color=Spectral4[2], line_width=3)\n",
        "graph_.edge_renderer.hover_glyph = MultiLine(line_color=Spectral4[1], line_width=5)\n",
        "\n",
        "#Politica de seleccion e inspeccion de nodos\n",
        "graph_.selection_policy = NodesAndLinkedEdges()\n",
        "graph_.inspection_policy = NodesAndLinkedEdges()\n"
      ],
      "execution_count": 86,
      "outputs": []
    },
    {
      "cell_type": "code",
      "metadata": {
        "id": "gMPaCQGKqvX9",
        "colab_type": "code",
        "colab": {
          "base_uri": "https://localhost:8080/",
          "height": 621
        },
        "outputId": "6055ac66-a37f-464e-a535-04a69b7886dc"
      },
      "source": [
        "# Slider\n",
        "code = \"\"\"\n",
        "    \n",
        "    var datos_nodos = datum;\n",
        "    var f = cb_obj.value;\n",
        "    var n_nodos_inicio = [];\n",
        "    var n_nodos_destino = [];\n",
        "    var n_pesos = [];\n",
        "    var n_indices = [];\n",
        "\n",
        "    var n1 = nodos_inicio_act.slice();\n",
        "    var n2 = nodos_destino_act.slice();\n",
        "    var p1 = pesos_actuales.slice();\n",
        "    var limite = aristas;\n",
        "    var index_ = indices_actuales;\n",
        "\n",
        "    for (i= 0; i < limite; i++) {\n",
        "      if (p1[i] > f) {\n",
        "        n_nodos_inicio.push(n1[i]);\n",
        "        n_nodos_destino.push(n2[i]);\n",
        "        n_pesos.push(p1[i]);\n",
        "      }\n",
        "    }\n",
        "\n",
        "    new_data_edge = {'start': n_nodos_inicio, 'end': n_nodos_destino};\n",
        "    new_data_nodes = {'index': index_};\n",
        "\n",
        "    graph_setup.edge_renderer.data_source.data = new_data_edge; \n",
        "    graph_setup.node_renderer.data_source.data = new_data_nodes;\n",
        "    graph_setup.node_renderer.data_source.data['name'] = datos_nodos;\n",
        "    \n",
        "\"\"\"\n",
        "callback = CustomJS(args = dict(graph_setup = graph_,\n",
        "                                datum = datos_nodos,\n",
        "                                nodos_inicio_act = nodos_inicio,\n",
        "                                nodos_destino_act = nodos_destino,\n",
        "                                pesos_actuales = pesos_aristas,\n",
        "                                aristas = no_aristas,\n",
        "                                indices_actuales = nodos_grafo),\n",
        "                                code = code)\n",
        "slider = Slider(title = 'Umbral', start = 1, end = 100, value = 1)\n",
        "slider.js_on_change('value', callback)\n",
        "\n",
        "#Plotear grafo\n",
        "layout = Column(plot, slider)\n",
        "output_file(\"example_1.html\")\n",
        "output_notebook()\n",
        "show(layout)\n",
        "\n",
        "\"\"\"\n",
        "Nota personal\n",
        "\n",
        "si te manda error RuntimeError: Models must be owned by only a single document\n",
        "\n",
        "Reinicia el entorno de ejecucion para borrar variables locales almacenadas \n",
        "por Python\n",
        "\n",
        "Bokeh no admite que se compartan datos entre diferentes sesiones por seguridad.\n",
        "Python si permite que en diferentes sesiones(ejecuciones) se guarden\n",
        "variables locales, lo que no es compactible con Bokeh.\n",
        "\n",
        "\"\"\"\n"
      ],
      "execution_count": 87,
      "outputs": [
        {
          "output_type": "display_data",
          "data": {
            "application/javascript": [
              "\n",
              "(function(root) {\n",
              "  function now() {\n",
              "    return new Date();\n",
              "  }\n",
              "\n",
              "  var force = true;\n",
              "\n",
              "  if (typeof root._bokeh_onload_callbacks === \"undefined\" || force === true) {\n",
              "    root._bokeh_onload_callbacks = [];\n",
              "    root._bokeh_is_loading = undefined;\n",
              "  }\n",
              "\n",
              "  var JS_MIME_TYPE = 'application/javascript';\n",
              "  var HTML_MIME_TYPE = 'text/html';\n",
              "  var EXEC_MIME_TYPE = 'application/vnd.bokehjs_exec.v0+json';\n",
              "  var CLASS_NAME = 'output_bokeh rendered_html';\n",
              "\n",
              "  /**\n",
              "   * Render data to the DOM node\n",
              "   */\n",
              "  function render(props, node) {\n",
              "    var script = document.createElement(\"script\");\n",
              "    node.appendChild(script);\n",
              "  }\n",
              "\n",
              "  /**\n",
              "   * Handle when an output is cleared or removed\n",
              "   */\n",
              "  function handleClearOutput(event, handle) {\n",
              "    var cell = handle.cell;\n",
              "\n",
              "    var id = cell.output_area._bokeh_element_id;\n",
              "    var server_id = cell.output_area._bokeh_server_id;\n",
              "    // Clean up Bokeh references\n",
              "    if (id != null && id in Bokeh.index) {\n",
              "      Bokeh.index[id].model.document.clear();\n",
              "      delete Bokeh.index[id];\n",
              "    }\n",
              "\n",
              "    if (server_id !== undefined) {\n",
              "      // Clean up Bokeh references\n",
              "      var cmd = \"from bokeh.io.state import curstate; print(curstate().uuid_to_server['\" + server_id + \"'].get_sessions()[0].document.roots[0]._id)\";\n",
              "      cell.notebook.kernel.execute(cmd, {\n",
              "        iopub: {\n",
              "          output: function(msg) {\n",
              "            var id = msg.content.text.trim();\n",
              "            if (id in Bokeh.index) {\n",
              "              Bokeh.index[id].model.document.clear();\n",
              "              delete Bokeh.index[id];\n",
              "            }\n",
              "          }\n",
              "        }\n",
              "      });\n",
              "      // Destroy server and session\n",
              "      var cmd = \"import bokeh.io.notebook as ion; ion.destroy_server('\" + server_id + \"')\";\n",
              "      cell.notebook.kernel.execute(cmd);\n",
              "    }\n",
              "  }\n",
              "\n",
              "  /**\n",
              "   * Handle when a new output is added\n",
              "   */\n",
              "  function handleAddOutput(event, handle) {\n",
              "    var output_area = handle.output_area;\n",
              "    var output = handle.output;\n",
              "\n",
              "    // limit handleAddOutput to display_data with EXEC_MIME_TYPE content only\n",
              "    if ((output.output_type != \"display_data\") || (!output.data.hasOwnProperty(EXEC_MIME_TYPE))) {\n",
              "      return\n",
              "    }\n",
              "\n",
              "    var toinsert = output_area.element.find(\".\" + CLASS_NAME.split(' ')[0]);\n",
              "\n",
              "    if (output.metadata[EXEC_MIME_TYPE][\"id\"] !== undefined) {\n",
              "      toinsert[toinsert.length - 1].firstChild.textContent = output.data[JS_MIME_TYPE];\n",
              "      // store reference to embed id on output_area\n",
              "      output_area._bokeh_element_id = output.metadata[EXEC_MIME_TYPE][\"id\"];\n",
              "    }\n",
              "    if (output.metadata[EXEC_MIME_TYPE][\"server_id\"] !== undefined) {\n",
              "      var bk_div = document.createElement(\"div\");\n",
              "      bk_div.innerHTML = output.data[HTML_MIME_TYPE];\n",
              "      var script_attrs = bk_div.children[0].attributes;\n",
              "      for (var i = 0; i < script_attrs.length; i++) {\n",
              "        toinsert[toinsert.length - 1].firstChild.setAttribute(script_attrs[i].name, script_attrs[i].value);\n",
              "        toinsert[toinsert.length - 1].firstChild.textContent = bk_div.children[0].textContent\n",
              "      }\n",
              "      // store reference to server id on output_area\n",
              "      output_area._bokeh_server_id = output.metadata[EXEC_MIME_TYPE][\"server_id\"];\n",
              "    }\n",
              "  }\n",
              "\n",
              "  function register_renderer(events, OutputArea) {\n",
              "\n",
              "    function append_mime(data, metadata, element) {\n",
              "      // create a DOM node to render to\n",
              "      var toinsert = this.create_output_subarea(\n",
              "        metadata,\n",
              "        CLASS_NAME,\n",
              "        EXEC_MIME_TYPE\n",
              "      );\n",
              "      this.keyboard_manager.register_events(toinsert);\n",
              "      // Render to node\n",
              "      var props = {data: data, metadata: metadata[EXEC_MIME_TYPE]};\n",
              "      render(props, toinsert[toinsert.length - 1]);\n",
              "      element.append(toinsert);\n",
              "      return toinsert\n",
              "    }\n",
              "\n",
              "    /* Handle when an output is cleared or removed */\n",
              "    events.on('clear_output.CodeCell', handleClearOutput);\n",
              "    events.on('delete.Cell', handleClearOutput);\n",
              "\n",
              "    /* Handle when a new output is added */\n",
              "    events.on('output_added.OutputArea', handleAddOutput);\n",
              "\n",
              "    /**\n",
              "     * Register the mime type and append_mime function with output_area\n",
              "     */\n",
              "    OutputArea.prototype.register_mime_type(EXEC_MIME_TYPE, append_mime, {\n",
              "      /* Is output safe? */\n",
              "      safe: true,\n",
              "      /* Index of renderer in `output_area.display_order` */\n",
              "      index: 0\n",
              "    });\n",
              "  }\n",
              "\n",
              "  // register the mime type if in Jupyter Notebook environment and previously unregistered\n",
              "  if (root.Jupyter !== undefined) {\n",
              "    var events = require('base/js/events');\n",
              "    var OutputArea = require('notebook/js/outputarea').OutputArea;\n",
              "\n",
              "    if (OutputArea.prototype.mime_types().indexOf(EXEC_MIME_TYPE) == -1) {\n",
              "      register_renderer(events, OutputArea);\n",
              "    }\n",
              "  }\n",
              "\n",
              "  \n",
              "  if (typeof (root._bokeh_timeout) === \"undefined\" || force === true) {\n",
              "    root._bokeh_timeout = Date.now() + 5000;\n",
              "    root._bokeh_failed_load = false;\n",
              "  }\n",
              "\n",
              "  var NB_LOAD_WARNING = {'data': {'text/html':\n",
              "     \"<div style='background-color: #fdd'>\\n\"+\n",
              "     \"<p>\\n\"+\n",
              "     \"BokehJS does not appear to have successfully loaded. If loading BokehJS from CDN, this \\n\"+\n",
              "     \"may be due to a slow or bad network connection. Possible fixes:\\n\"+\n",
              "     \"</p>\\n\"+\n",
              "     \"<ul>\\n\"+\n",
              "     \"<li>re-rerun `output_notebook()` to attempt to load from CDN again, or</li>\\n\"+\n",
              "     \"<li>use INLINE resources instead, as so:</li>\\n\"+\n",
              "     \"</ul>\\n\"+\n",
              "     \"<code>\\n\"+\n",
              "     \"from bokeh.resources import INLINE\\n\"+\n",
              "     \"output_notebook(resources=INLINE)\\n\"+\n",
              "     \"</code>\\n\"+\n",
              "     \"</div>\"}};\n",
              "\n",
              "  function display_loaded() {\n",
              "    var el = document.getElementById(null);\n",
              "    if (el != null) {\n",
              "      el.textContent = \"BokehJS is loading...\";\n",
              "    }\n",
              "    if (root.Bokeh !== undefined) {\n",
              "      if (el != null) {\n",
              "        el.textContent = \"BokehJS \" + root.Bokeh.version + \" successfully loaded.\";\n",
              "      }\n",
              "    } else if (Date.now() < root._bokeh_timeout) {\n",
              "      setTimeout(display_loaded, 100)\n",
              "    }\n",
              "  }\n",
              "\n",
              "\n",
              "  function run_callbacks() {\n",
              "    try {\n",
              "      root._bokeh_onload_callbacks.forEach(function(callback) {\n",
              "        if (callback != null)\n",
              "          callback();\n",
              "      });\n",
              "    } finally {\n",
              "      delete root._bokeh_onload_callbacks\n",
              "    }\n",
              "    console.debug(\"Bokeh: all callbacks have finished\");\n",
              "  }\n",
              "\n",
              "  function load_libs(css_urls, js_urls, callback) {\n",
              "    if (css_urls == null) css_urls = [];\n",
              "    if (js_urls == null) js_urls = [];\n",
              "\n",
              "    root._bokeh_onload_callbacks.push(callback);\n",
              "    if (root._bokeh_is_loading > 0) {\n",
              "      console.debug(\"Bokeh: BokehJS is being loaded, scheduling callback at\", now());\n",
              "      return null;\n",
              "    }\n",
              "    if (js_urls == null || js_urls.length === 0) {\n",
              "      run_callbacks();\n",
              "      return null;\n",
              "    }\n",
              "    console.debug(\"Bokeh: BokehJS not loaded, scheduling load and callback at\", now());\n",
              "    root._bokeh_is_loading = css_urls.length + js_urls.length;\n",
              "\n",
              "    function on_load() {\n",
              "      root._bokeh_is_loading--;\n",
              "      if (root._bokeh_is_loading === 0) {\n",
              "        console.debug(\"Bokeh: all BokehJS libraries/stylesheets loaded\");\n",
              "        run_callbacks()\n",
              "      }\n",
              "    }\n",
              "\n",
              "    function on_error() {\n",
              "      console.error(\"failed to load \" + url);\n",
              "    }\n",
              "\n",
              "    for (var i = 0; i < css_urls.length; i++) {\n",
              "      var url = css_urls[i];\n",
              "      const element = document.createElement(\"link\");\n",
              "      element.onload = on_load;\n",
              "      element.onerror = on_error;\n",
              "      element.rel = \"stylesheet\";\n",
              "      element.type = \"text/css\";\n",
              "      element.href = url;\n",
              "      console.debug(\"Bokeh: injecting link tag for BokehJS stylesheet: \", url);\n",
              "      document.body.appendChild(element);\n",
              "    }\n",
              "\n",
              "    const hashes = {\"https://cdn.bokeh.org/bokeh/release/bokeh-2.1.1.min.js\": \"kLr4fYcqcSpbuI95brIH3vnnYCquzzSxHPU6XGQCIkQRGJwhg0StNbj1eegrHs12\", \"https://cdn.bokeh.org/bokeh/release/bokeh-widgets-2.1.1.min.js\": \"xIGPmVtaOm+z0BqfSOMn4lOR6ciex448GIKG4eE61LsAvmGj48XcMQZtKcE/UXZe\", \"https://cdn.bokeh.org/bokeh/release/bokeh-tables-2.1.1.min.js\": \"Dc9u1wF/0zApGIWoBbH77iWEHtdmkuYWG839Uzmv8y8yBLXebjO9ZnERsde5Ln/P\", \"https://cdn.bokeh.org/bokeh/release/bokeh-gl-2.1.1.min.js\": \"cT9JaBz7GiRXdENrJLZNSC6eMNF3nh3fa5fTF51Svp+ukxPdwcU5kGXGPBgDCa2j\"};\n",
              "\n",
              "    for (var i = 0; i < js_urls.length; i++) {\n",
              "      var url = js_urls[i];\n",
              "      var element = document.createElement('script');\n",
              "      element.onload = on_load;\n",
              "      element.onerror = on_error;\n",
              "      element.async = false;\n",
              "      element.src = url;\n",
              "      if (url in hashes) {\n",
              "        element.crossOrigin = \"anonymous\";\n",
              "        element.integrity = \"sha384-\" + hashes[url];\n",
              "      }\n",
              "      console.debug(\"Bokeh: injecting script tag for BokehJS library: \", url);\n",
              "      document.head.appendChild(element);\n",
              "    }\n",
              "  };\n",
              "\n",
              "  function inject_raw_css(css) {\n",
              "    const element = document.createElement(\"style\");\n",
              "    element.appendChild(document.createTextNode(css));\n",
              "    document.body.appendChild(element);\n",
              "  }\n",
              "\n",
              "  \n",
              "  var js_urls = [\"https://cdn.bokeh.org/bokeh/release/bokeh-2.1.1.min.js\", \"https://cdn.bokeh.org/bokeh/release/bokeh-widgets-2.1.1.min.js\", \"https://cdn.bokeh.org/bokeh/release/bokeh-tables-2.1.1.min.js\", \"https://cdn.bokeh.org/bokeh/release/bokeh-gl-2.1.1.min.js\"];\n",
              "  var css_urls = [];\n",
              "  \n",
              "\n",
              "  var inline_js = [\n",
              "    function(Bokeh) {\n",
              "      Bokeh.set_log_level(\"info\");\n",
              "    },\n",
              "    function(Bokeh) {\n",
              "    \n",
              "    \n",
              "    }\n",
              "  ];\n",
              "\n",
              "  function run_inline_js() {\n",
              "    \n",
              "    if (root.Bokeh !== undefined || force === true) {\n",
              "      \n",
              "    for (var i = 0; i < inline_js.length; i++) {\n",
              "      inline_js[i].call(root, root.Bokeh);\n",
              "    }\n",
              "    } else if (Date.now() < root._bokeh_timeout) {\n",
              "      setTimeout(run_inline_js, 100);\n",
              "    } else if (!root._bokeh_failed_load) {\n",
              "      console.log(\"Bokeh: BokehJS failed to load within specified timeout.\");\n",
              "      root._bokeh_failed_load = true;\n",
              "    } else if (force !== true) {\n",
              "      var cell = $(document.getElementById(null)).parents('.cell').data().cell;\n",
              "      cell.output_area.append_execute_result(NB_LOAD_WARNING)\n",
              "    }\n",
              "\n",
              "  }\n",
              "\n",
              "  if (root._bokeh_is_loading === 0) {\n",
              "    console.debug(\"Bokeh: BokehJS loaded, going straight to plotting\");\n",
              "    run_inline_js();\n",
              "  } else {\n",
              "    load_libs(css_urls, js_urls, function() {\n",
              "      console.debug(\"Bokeh: BokehJS plotting callback run at\", now());\n",
              "      run_inline_js();\n",
              "    });\n",
              "  }\n",
              "}(window));"
            ],
            "application/vnd.bokehjs_load.v0+json": "\n(function(root) {\n  function now() {\n    return new Date();\n  }\n\n  var force = true;\n\n  if (typeof root._bokeh_onload_callbacks === \"undefined\" || force === true) {\n    root._bokeh_onload_callbacks = [];\n    root._bokeh_is_loading = undefined;\n  }\n\n  \n\n  \n  if (typeof (root._bokeh_timeout) === \"undefined\" || force === true) {\n    root._bokeh_timeout = Date.now() + 5000;\n    root._bokeh_failed_load = false;\n  }\n\n  var NB_LOAD_WARNING = {'data': {'text/html':\n     \"<div style='background-color: #fdd'>\\n\"+\n     \"<p>\\n\"+\n     \"BokehJS does not appear to have successfully loaded. If loading BokehJS from CDN, this \\n\"+\n     \"may be due to a slow or bad network connection. Possible fixes:\\n\"+\n     \"</p>\\n\"+\n     \"<ul>\\n\"+\n     \"<li>re-rerun `output_notebook()` to attempt to load from CDN again, or</li>\\n\"+\n     \"<li>use INLINE resources instead, as so:</li>\\n\"+\n     \"</ul>\\n\"+\n     \"<code>\\n\"+\n     \"from bokeh.resources import INLINE\\n\"+\n     \"output_notebook(resources=INLINE)\\n\"+\n     \"</code>\\n\"+\n     \"</div>\"}};\n\n  function display_loaded() {\n    var el = document.getElementById(null);\n    if (el != null) {\n      el.textContent = \"BokehJS is loading...\";\n    }\n    if (root.Bokeh !== undefined) {\n      if (el != null) {\n        el.textContent = \"BokehJS \" + root.Bokeh.version + \" successfully loaded.\";\n      }\n    } else if (Date.now() < root._bokeh_timeout) {\n      setTimeout(display_loaded, 100)\n    }\n  }\n\n\n  function run_callbacks() {\n    try {\n      root._bokeh_onload_callbacks.forEach(function(callback) {\n        if (callback != null)\n          callback();\n      });\n    } finally {\n      delete root._bokeh_onload_callbacks\n    }\n    console.debug(\"Bokeh: all callbacks have finished\");\n  }\n\n  function load_libs(css_urls, js_urls, callback) {\n    if (css_urls == null) css_urls = [];\n    if (js_urls == null) js_urls = [];\n\n    root._bokeh_onload_callbacks.push(callback);\n    if (root._bokeh_is_loading > 0) {\n      console.debug(\"Bokeh: BokehJS is being loaded, scheduling callback at\", now());\n      return null;\n    }\n    if (js_urls == null || js_urls.length === 0) {\n      run_callbacks();\n      return null;\n    }\n    console.debug(\"Bokeh: BokehJS not loaded, scheduling load and callback at\", now());\n    root._bokeh_is_loading = css_urls.length + js_urls.length;\n\n    function on_load() {\n      root._bokeh_is_loading--;\n      if (root._bokeh_is_loading === 0) {\n        console.debug(\"Bokeh: all BokehJS libraries/stylesheets loaded\");\n        run_callbacks()\n      }\n    }\n\n    function on_error() {\n      console.error(\"failed to load \" + url);\n    }\n\n    for (var i = 0; i < css_urls.length; i++) {\n      var url = css_urls[i];\n      const element = document.createElement(\"link\");\n      element.onload = on_load;\n      element.onerror = on_error;\n      element.rel = \"stylesheet\";\n      element.type = \"text/css\";\n      element.href = url;\n      console.debug(\"Bokeh: injecting link tag for BokehJS stylesheet: \", url);\n      document.body.appendChild(element);\n    }\n\n    const hashes = {\"https://cdn.bokeh.org/bokeh/release/bokeh-2.1.1.min.js\": \"kLr4fYcqcSpbuI95brIH3vnnYCquzzSxHPU6XGQCIkQRGJwhg0StNbj1eegrHs12\", \"https://cdn.bokeh.org/bokeh/release/bokeh-widgets-2.1.1.min.js\": \"xIGPmVtaOm+z0BqfSOMn4lOR6ciex448GIKG4eE61LsAvmGj48XcMQZtKcE/UXZe\", \"https://cdn.bokeh.org/bokeh/release/bokeh-tables-2.1.1.min.js\": \"Dc9u1wF/0zApGIWoBbH77iWEHtdmkuYWG839Uzmv8y8yBLXebjO9ZnERsde5Ln/P\", \"https://cdn.bokeh.org/bokeh/release/bokeh-gl-2.1.1.min.js\": \"cT9JaBz7GiRXdENrJLZNSC6eMNF3nh3fa5fTF51Svp+ukxPdwcU5kGXGPBgDCa2j\"};\n\n    for (var i = 0; i < js_urls.length; i++) {\n      var url = js_urls[i];\n      var element = document.createElement('script');\n      element.onload = on_load;\n      element.onerror = on_error;\n      element.async = false;\n      element.src = url;\n      if (url in hashes) {\n        element.crossOrigin = \"anonymous\";\n        element.integrity = \"sha384-\" + hashes[url];\n      }\n      console.debug(\"Bokeh: injecting script tag for BokehJS library: \", url);\n      document.head.appendChild(element);\n    }\n  };\n\n  function inject_raw_css(css) {\n    const element = document.createElement(\"style\");\n    element.appendChild(document.createTextNode(css));\n    document.body.appendChild(element);\n  }\n\n  \n  var js_urls = [\"https://cdn.bokeh.org/bokeh/release/bokeh-2.1.1.min.js\", \"https://cdn.bokeh.org/bokeh/release/bokeh-widgets-2.1.1.min.js\", \"https://cdn.bokeh.org/bokeh/release/bokeh-tables-2.1.1.min.js\", \"https://cdn.bokeh.org/bokeh/release/bokeh-gl-2.1.1.min.js\"];\n  var css_urls = [];\n  \n\n  var inline_js = [\n    function(Bokeh) {\n      Bokeh.set_log_level(\"info\");\n    },\n    function(Bokeh) {\n    \n    \n    }\n  ];\n\n  function run_inline_js() {\n    \n    if (root.Bokeh !== undefined || force === true) {\n      \n    for (var i = 0; i < inline_js.length; i++) {\n      inline_js[i].call(root, root.Bokeh);\n    }\n    } else if (Date.now() < root._bokeh_timeout) {\n      setTimeout(run_inline_js, 100);\n    } else if (!root._bokeh_failed_load) {\n      console.log(\"Bokeh: BokehJS failed to load within specified timeout.\");\n      root._bokeh_failed_load = true;\n    } else if (force !== true) {\n      var cell = $(document.getElementById(null)).parents('.cell').data().cell;\n      cell.output_area.append_execute_result(NB_LOAD_WARNING)\n    }\n\n  }\n\n  if (root._bokeh_is_loading === 0) {\n    console.debug(\"Bokeh: BokehJS loaded, going straight to plotting\");\n    run_inline_js();\n  } else {\n    load_libs(css_urls, js_urls, function() {\n      console.debug(\"Bokeh: BokehJS plotting callback run at\", now());\n      run_inline_js();\n    });\n  }\n}(window));"
          },
          "metadata": {
            "tags": []
          }
        },
        {
          "output_type": "display_data",
          "data": {
            "text/html": [
              "\n",
              "\n",
              "\n",
              "\n",
              "\n",
              "\n",
              "  <div class=\"bk-root\" id=\"7dccc7e0-ad35-4204-9ef4-72f751dc3de2\" data-root-id=\"2811\"></div>\n"
            ]
          },
          "metadata": {
            "tags": []
          }
        },
        {
          "output_type": "display_data",
          "data": {
            "application/javascript": [
              "(function(root) {\n",
              "  function embed_document(root) {\n",
              "    \n",
              "  var docs_json = {\"42a9f4f3-479e-4c23-ad3d-0ec661eee2d9\":{\"roots\":{\"references\":[{\"attributes\":{\"children\":[{\"id\":\"2743\"},{\"id\":\"2810\"}]},\"id\":\"2811\",\"type\":\"Column\"},{\"attributes\":{},\"id\":\"2893\",\"type\":\"UnionRenderers\"},{\"attributes\":{\"plot_height\":500,\"plot_width\":900,\"renderers\":[{\"id\":\"2747\"}],\"title\":{\"id\":\"2746\"},\"toolbar\":{\"id\":\"2777\"},\"x_range\":{\"id\":\"2741\"},\"x_scale\":{\"id\":\"2882\"},\"y_range\":{\"id\":\"2742\"},\"y_scale\":{\"id\":\"2880\"}},\"id\":\"2743\",\"type\":\"Plot\"},{\"attributes\":{\"data_source\":{\"id\":\"2762\"},\"glyph\":{\"id\":\"2769\"},\"hover_glyph\":{\"id\":\"2800\"},\"muted_glyph\":null,\"selection_glyph\":{\"id\":\"2795\"},\"view\":{\"id\":\"2764\"}},\"id\":\"2763\",\"type\":\"GlyphRenderer\"},{\"attributes\":{},\"id\":\"2896\",\"type\":\"Selection\"},{\"attributes\":{\"fill_color\":{\"value\":\"#fdae61\"},\"size\":{\"units\":\"screen\",\"value\":15}},\"id\":\"2781\",\"type\":\"Circle\"},{\"attributes\":{\"data\":{\"index\":[0,1,2,3,4,5,6,7,8,9,10,11,12,13,14,15,16,17,18,19,20,21,22,23,24,25,26],\"name\":[\"A\",\"B\",\"C\",\"D\",\"E\",\"F\",\"G\",\"H\",\"I\",\"J\",\"K\",\"L\",\"M\",\"N\",\"N+\",\"O\",\"P\",\"K\",\"R\",\"S\",\"T\",\"U\",\"V\",\"W\",\"X\",\"Y\",\"Z\"]},\"selected\":{\"id\":\"2896\"},\"selection_policy\":{\"id\":\"2895\"}},\"id\":\"2749\",\"type\":\"ColumnDataSource\"},{\"attributes\":{\"source\":{\"id\":\"2762\"}},\"id\":\"2764\",\"type\":\"CDSView\"},{\"attributes\":{\"bottom_units\":\"screen\",\"fill_alpha\":0.5,\"fill_color\":\"lightgrey\",\"left_units\":\"screen\",\"level\":\"overlay\",\"line_alpha\":1.0,\"line_color\":\"black\",\"line_dash\":[4,4],\"line_width\":2,\"right_units\":\"screen\",\"top_units\":\"screen\"},\"id\":\"2892\",\"type\":\"BoxAnnotation\"},{\"attributes\":{\"callback\":null,\"tooltips\":[[\"Nodo\",\"@name\"]]},\"id\":\"2774\",\"type\":\"HoverTool\"},{\"attributes\":{\"line_color\":{\"value\":\"#fdae61\"},\"line_width\":{\"value\":3}},\"id\":\"2795\",\"type\":\"MultiLine\"},{\"attributes\":{\"line_color\":{\"value\":\"#abdda4\"},\"line_width\":{\"value\":5}},\"id\":\"2800\",\"type\":\"MultiLine\"},{\"attributes\":{},\"id\":\"2894\",\"type\":\"Selection\"},{\"attributes\":{\"end\":1.1,\"start\":-1.1},\"id\":\"2742\",\"type\":\"Range1d\"},{\"attributes\":{},\"id\":\"2805\",\"type\":\"NodesAndLinkedEdges\"},{\"attributes\":{\"end\":1.1,\"start\":-1.1},\"id\":\"2741\",\"type\":\"Range1d\"},{\"attributes\":{\"data_source\":{\"id\":\"2749\"},\"glyph\":{\"id\":\"2752\"},\"hover_glyph\":{\"id\":\"2786\"},\"muted_glyph\":null,\"selection_glyph\":{\"id\":\"2781\"},\"view\":{\"id\":\"2751\"}},\"id\":\"2750\",\"type\":\"GlyphRenderer\"},{\"attributes\":{\"edge_renderer\":{\"id\":\"2763\"},\"inspection_policy\":{\"id\":\"2807\"},\"layout_provider\":{\"id\":\"2780\"},\"node_renderer\":{\"id\":\"2750\"},\"selection_policy\":{\"id\":\"2805\"}},\"id\":\"2747\",\"type\":\"GraphRenderer\"},{\"attributes\":{\"active_drag\":\"auto\",\"active_inspect\":\"auto\",\"active_multi\":null,\"active_scroll\":\"auto\",\"active_tap\":\"auto\",\"tools\":[{\"id\":\"2774\"},{\"id\":\"2775\"},{\"id\":\"2776\"}]},\"id\":\"2777\",\"type\":\"Toolbar\"},{\"attributes\":{},\"id\":\"2880\",\"type\":\"LinearScale\"},{\"attributes\":{\"callback\":null},\"id\":\"2775\",\"type\":\"TapTool\"},{\"attributes\":{},\"id\":\"2895\",\"type\":\"UnionRenderers\"},{\"attributes\":{},\"id\":\"2882\",\"type\":\"LinearScale\"},{\"attributes\":{\"data\":{\"Weights\":[41,30,53,88,68,29,55,52,49,10,49,80,3,74,83,31,77,44,74,29,56,52,59,80,51,17,78,51,51,80,75,48,65,61,25,61,5,47,55,19,30,66,54,19,80,19,72,50,51,14,26,53,9,17,5,8,75,28,31,44,23,69,23,7,16,53,24,21,16,25,7,65,53,65,88,68,80,43,24,72,2,50,67,16,40,79,73,16,82,23,89,68,71,69,36,67,62,60,15,42,85,4,71,86,27,72,55,83,28,67,47,71,87,61,37,57,43,48,16,67,74,16,82,64,53,51,45,57,44,63,38,58,66,46,4,60,38,55,61,16,47,2,33,42,11,20,56,41,11,62,13,62,35,41,69,85,39,28,72,3,53,69,19,42,86,77,19,90,26,87,70,74,77,22,15,56,41,61,7,37,75,78,6,60,16,67,70,92,39,18,66,45,63,9,36,92,72,9,78,20,81,62,82,2,26,12,22,3,40,19,42,38,14,23,45,13,67,37,54,41,16,29,43,34,37,28,39,18,3,73,81,29,63,60,72,29,75,43,78,79,57,6,4,55,2,1,2,38,6,1,1,5,63,39,56,41,57,32,59,45,55,66,44,25,68,58,80,23,69,44,72,80,61,24,9,18,67,26,22,18,27,9,30,59,26,42,60,46,63,37,69,9,78,16,76,59,80,18,70,36,77,87,78,25,22,18,27,9,28,83,67,65,29,38,19,71,70,68],\"end\":[1,2,3,4,5,6,8,9,10,11,12,13,14,15,16,17,18,19,20,21,22,23,24,25,26,2,3,4,5,6,8,9,10,11,12,13,14,15,16,17,18,19,20,21,22,23,24,25,26,3,4,5,6,8,9,10,12,13,14,15,16,17,18,19,20,21,22,23,24,25,26,4,5,6,8,9,10,11,12,13,14,15,16,17,18,19,20,21,22,23,24,25,26,5,6,8,9,10,11,12,13,14,15,16,17,18,19,20,21,22,23,24,25,26,6,8,9,10,11,12,13,14,15,16,17,18,19,20,21,22,23,24,25,26,7,8,9,10,11,12,13,14,15,16,17,18,19,20,21,22,23,24,25,26,9,10,11,12,13,14,15,16,17,18,19,20,21,22,23,24,25,26,10,11,12,13,15,16,17,18,19,20,21,22,23,24,25,26,11,12,13,15,16,17,18,19,20,21,22,23,24,25,26,12,13,15,16,18,19,20,22,24,25,26,13,14,15,16,17,18,19,20,21,22,23,24,25,26,14,15,16,17,18,19,20,21,22,23,24,25,26,15,16,17,18,19,20,21,22,23,24,25,16,17,18,19,20,21,22,23,24,25,26,17,18,19,20,21,22,23,24,25,26,18,19,20,21,22,23,24,25,26,19,20,21,22,23,24,25,26,20,21,22,23,24,25,26,21,22,23,24,25,26,22,23,24,25,26,23,24,25,26,24,25,26,25,26,26],\"start\":[0,0,0,0,0,0,0,0,0,0,0,0,0,0,0,0,0,0,0,0,0,0,0,0,0,1,1,1,1,1,1,1,1,1,1,1,1,1,1,1,1,1,1,1,1,1,1,1,1,2,2,2,2,2,2,2,2,2,2,2,2,2,2,2,2,2,2,2,2,2,2,3,3,3,3,3,3,3,3,3,3,3,3,3,3,3,3,3,3,3,3,3,3,4,4,4,4,4,4,4,4,4,4,4,4,4,4,4,4,4,4,4,4,4,5,5,5,5,5,5,5,5,5,5,5,5,5,5,5,5,5,5,5,5,6,6,6,6,6,6,6,6,6,6,6,6,6,6,6,6,6,6,6,6,8,8,8,8,8,8,8,8,8,8,8,8,8,8,8,8,8,8,9,9,9,9,9,9,9,9,9,9,9,9,9,9,9,9,10,10,10,10,10,10,10,10,10,10,10,10,10,10,10,11,11,11,11,11,11,11,11,11,11,11,12,12,12,12,12,12,12,12,12,12,12,12,12,12,13,13,13,13,13,13,13,13,13,13,13,13,13,14,14,14,14,14,14,14,14,14,14,14,15,15,15,15,15,15,15,15,15,15,15,16,16,16,16,16,16,16,16,16,16,17,17,17,17,17,17,17,17,17,18,18,18,18,18,18,18,18,19,19,19,19,19,19,19,20,20,20,20,20,20,21,21,21,21,21,22,22,22,22,23,23,23,24,24,25]},\"selected\":{\"id\":\"2894\"},\"selection_policy\":{\"id\":\"2893\"}},\"id\":\"2762\",\"type\":\"ColumnDataSource\"},{\"attributes\":{\"fill_color\":{\"value\":\"#abdda4\"},\"size\":{\"units\":\"screen\",\"value\":15}},\"id\":\"2786\",\"type\":\"Circle\"},{\"attributes\":{\"text\":\"br_1 Interaccion Slider\"},\"id\":\"2746\",\"type\":\"Title\"},{\"attributes\":{\"fill_color\":{\"value\":\"blue\"},\"size\":{\"units\":\"screen\",\"value\":15}},\"id\":\"2752\",\"type\":\"Circle\"},{\"attributes\":{},\"id\":\"2807\",\"type\":\"NodesAndLinkedEdges\"},{\"attributes\":{\"line_alpha\":{\"value\":0.8},\"line_color\":{\"value\":\"#CCCCCC\"}},\"id\":\"2769\",\"type\":\"MultiLine\"},{\"attributes\":{\"source\":{\"id\":\"2749\"}},\"id\":\"2751\",\"type\":\"CDSView\"},{\"attributes\":{\"graph_layout\":{\"0\":[0.6957677674050748,-0.661447407922568],\"1\":[-0.9007976564470512,-0.3826786693297744],\"10\":[-0.9488636634825958,-0.08813440235097961],\"11\":[-0.9342877851764398,0.20187425846300183],\"12\":[0.004857957246007492,-0.9999999999999999],\"13\":[-0.3674840781901178,0.8148540400554481],\"14\":[0.8732151384524812,0.25139954390214053],\"15\":[0.010120175753855709,-0.1670666044626779],\"16\":[0.07597296340036987,-0.11913964154458635],\"17\":[0.6022478333608046,0.5110461471178899],\"18\":[0.41611894660058135,-0.9618684301246845],\"19\":[0.037632854772055455,-0.1286515685473087],\"2\":[-0.7066564611420715,-0.5904303683116058],\"20\":[-0.009298295126731556,-0.13840700287533916],\"21\":[0.6621570250857098,0.5617161123503223],\"22\":[0.04260835218503622,-0.17821004930595608],\"23\":[-0.5357003108849893,-0.820811569573574],\"24\":[0.004731862727379693,-0.10306582834377177],\"25\":[0.0454822482827324,-0.09135367382429328],\"26\":[0.07172671339425964,-0.15701879775551797],\"3\":[0.3911222882168553,0.7841424678259437],\"4\":[0.13443941156724606,0.7972120388998394],\"5\":[-0.6221602324245101,0.6848346028063547],\"6\":[0.9071058688151495,-0.061455154243778044],\"7\":[-0.806713264709015,0.4612018856437397],\"8\":[0.9574102032661477,-0.27639572703481574],\"9\":[-0.1007558629482253,0.8578537984865504]}},\"id\":\"2780\",\"type\":\"StaticLayoutProvider\"},{\"attributes\":{\"args\":{\"aristas\":318,\"datum\":[\"A\",\"B\",\"C\",\"D\",\"E\",\"F\",\"G\",\"H\",\"I\",\"J\",\"K\",\"L\",\"M\",\"N\",\"N+\",\"O\",\"P\",\"K\",\"R\",\"S\",\"T\",\"U\",\"V\",\"W\",\"X\",\"Y\",\"Z\"],\"graph_setup\":{\"id\":\"2747\"},\"indices_actuales\":[0,1,2,3,4,5,6,7,8,9,10,11,12,13,14,15,16,17,18,19,20,21,22,23,24,25,26],\"nodos_destino_act\":[1,2,3,4,5,6,8,9,10,11,12,13,14,15,16,17,18,19,20,21,22,23,24,25,26,2,3,4,5,6,8,9,10,11,12,13,14,15,16,17,18,19,20,21,22,23,24,25,26,3,4,5,6,8,9,10,12,13,14,15,16,17,18,19,20,21,22,23,24,25,26,4,5,6,8,9,10,11,12,13,14,15,16,17,18,19,20,21,22,23,24,25,26,5,6,8,9,10,11,12,13,14,15,16,17,18,19,20,21,22,23,24,25,26,6,8,9,10,11,12,13,14,15,16,17,18,19,20,21,22,23,24,25,26,7,8,9,10,11,12,13,14,15,16,17,18,19,20,21,22,23,24,25,26,9,10,11,12,13,14,15,16,17,18,19,20,21,22,23,24,25,26,10,11,12,13,15,16,17,18,19,20,21,22,23,24,25,26,11,12,13,15,16,17,18,19,20,21,22,23,24,25,26,12,13,15,16,18,19,20,22,24,25,26,13,14,15,16,17,18,19,20,21,22,23,24,25,26,14,15,16,17,18,19,20,21,22,23,24,25,26,15,16,17,18,19,20,21,22,23,24,25,16,17,18,19,20,21,22,23,24,25,26,17,18,19,20,21,22,23,24,25,26,18,19,20,21,22,23,24,25,26,19,20,21,22,23,24,25,26,20,21,22,23,24,25,26,21,22,23,24,25,26,22,23,24,25,26,23,24,25,26,24,25,26,25,26,26],\"nodos_inicio_act\":[0,0,0,0,0,0,0,0,0,0,0,0,0,0,0,0,0,0,0,0,0,0,0,0,0,1,1,1,1,1,1,1,1,1,1,1,1,1,1,1,1,1,1,1,1,1,1,1,1,2,2,2,2,2,2,2,2,2,2,2,2,2,2,2,2,2,2,2,2,2,2,3,3,3,3,3,3,3,3,3,3,3,3,3,3,3,3,3,3,3,3,3,3,4,4,4,4,4,4,4,4,4,4,4,4,4,4,4,4,4,4,4,4,4,5,5,5,5,5,5,5,5,5,5,5,5,5,5,5,5,5,5,5,5,6,6,6,6,6,6,6,6,6,6,6,6,6,6,6,6,6,6,6,6,8,8,8,8,8,8,8,8,8,8,8,8,8,8,8,8,8,8,9,9,9,9,9,9,9,9,9,9,9,9,9,9,9,9,10,10,10,10,10,10,10,10,10,10,10,10,10,10,10,11,11,11,11,11,11,11,11,11,11,11,12,12,12,12,12,12,12,12,12,12,12,12,12,12,13,13,13,13,13,13,13,13,13,13,13,13,13,14,14,14,14,14,14,14,14,14,14,14,15,15,15,15,15,15,15,15,15,15,15,16,16,16,16,16,16,16,16,16,16,17,17,17,17,17,17,17,17,17,18,18,18,18,18,18,18,18,19,19,19,19,19,19,19,20,20,20,20,20,20,21,21,21,21,21,22,22,22,22,23,23,23,24,24,25],\"pesos_actuales\":[41,30,53,88,68,29,55,52,49,10,49,80,3,74,83,31,77,44,74,29,56,52,59,80,51,17,78,51,51,80,75,48,65,61,25,61,5,47,55,19,30,66,54,19,80,19,72,50,51,14,26,53,9,17,5,8,75,28,31,44,23,69,23,7,16,53,24,21,16,25,7,65,53,65,88,68,80,43,24,72,2,50,67,16,40,79,73,16,82,23,89,68,71,69,36,67,62,60,15,42,85,4,71,86,27,72,55,83,28,67,47,71,87,61,37,57,43,48,16,67,74,16,82,64,53,51,45,57,44,63,38,58,66,46,4,60,38,55,61,16,47,2,33,42,11,20,56,41,11,62,13,62,35,41,69,85,39,28,72,3,53,69,19,42,86,77,19,90,26,87,70,74,77,22,15,56,41,61,7,37,75,78,6,60,16,67,70,92,39,18,66,45,63,9,36,92,72,9,78,20,81,62,82,2,26,12,22,3,40,19,42,38,14,23,45,13,67,37,54,41,16,29,43,34,37,28,39,18,3,73,81,29,63,60,72,29,75,43,78,79,57,6,4,55,2,1,2,38,6,1,1,5,63,39,56,41,57,32,59,45,55,66,44,25,68,58,80,23,69,44,72,80,61,24,9,18,67,26,22,18,27,9,30,59,26,42,60,46,63,37,69,9,78,16,76,59,80,18,70,36,77,87,78,25,22,18,27,9,28,83,67,65,29,38,19,71,70,68]},\"code\":\"\\n    \\n    var datos_nodos = datum;\\n    var f = cb_obj.value;\\n    var n_nodos_inicio = [];\\n    var n_nodos_destino = [];\\n    var n_pesos = [];\\n    var n_indices = [];\\n\\n    var n1 = nodos_inicio_act.slice();\\n    var n2 = nodos_destino_act.slice();\\n    var p1 = pesos_actuales.slice();\\n    var limite = aristas;\\n    var index_ = indices_actuales;\\n\\n    for (i= 0; i < limite; i++) {\\n      if (p1[i] > f) {\\n        n_nodos_inicio.push(n1[i]);\\n        n_nodos_destino.push(n2[i]);\\n        n_pesos.push(p1[i]);\\n      }\\n    }\\n\\n    new_data_edge = {'start': n_nodos_inicio, 'end': n_nodos_destino};\\n    new_data_nodes = {'index': index_};\\n\\n    graph_setup.edge_renderer.data_source.data = new_data_edge; \\n    graph_setup.node_renderer.data_source.data = new_data_nodes;\\n    graph_setup.node_renderer.data_source.data['name'] = datos_nodos;\\n    \\n\"},\"id\":\"2809\",\"type\":\"CustomJS\"},{\"attributes\":{\"overlay\":{\"id\":\"2892\"}},\"id\":\"2776\",\"type\":\"BoxSelectTool\"},{\"attributes\":{\"end\":100,\"format\":\"0[.]00\",\"js_property_callbacks\":{\"change:value\":[{\"id\":\"2809\"}]},\"start\":1,\"title\":\"Umbral\",\"value\":1},\"id\":\"2810\",\"type\":\"Slider\"}],\"root_ids\":[\"2811\"]},\"title\":\"Bokeh Application\",\"version\":\"2.1.1\"}};\n",
              "  var render_items = [{\"docid\":\"42a9f4f3-479e-4c23-ad3d-0ec661eee2d9\",\"root_ids\":[\"2811\"],\"roots\":{\"2811\":\"7dccc7e0-ad35-4204-9ef4-72f751dc3de2\"}}];\n",
              "  root.Bokeh.embed.embed_items_notebook(docs_json, render_items);\n",
              "\n",
              "  }\n",
              "  if (root.Bokeh !== undefined) {\n",
              "    embed_document(root);\n",
              "  } else {\n",
              "    var attempts = 0;\n",
              "    var timer = setInterval(function(root) {\n",
              "      if (root.Bokeh !== undefined) {\n",
              "        clearInterval(timer);\n",
              "        embed_document(root);\n",
              "      } else {\n",
              "        attempts++;\n",
              "        if (attempts > 100) {\n",
              "          clearInterval(timer);\n",
              "          console.log(\"Bokeh: ERROR: Unable to run BokehJS code because BokehJS library is missing\");\n",
              "        }\n",
              "      }\n",
              "    }, 10, root)\n",
              "  }\n",
              "})(window);"
            ],
            "application/vnd.bokehjs_exec.v0+json": ""
          },
          "metadata": {
            "tags": [],
            "application/vnd.bokehjs_exec.v0+json": {
              "id": "2811"
            }
          }
        },
        {
          "output_type": "execute_result",
          "data": {
            "application/vnd.google.colaboratory.intrinsic+json": {
              "type": "string"
            },
            "text/plain": [
              "'\\nNota personal\\n\\nsi te manda error RuntimeError: Models must be owned by only a single document\\n\\nReinicia el entorno de ejecucion para borrar variables locales almacenadas \\npor Python\\n\\nBokeh no admite que se compartan datos entre diferentes sesiones por seguridad.\\nPython si permite que en diferentes sesiones(ejecuciones) se guarden\\nvariables locales, lo que no es compactible con Bokeh.\\n\\n'"
            ]
          },
          "metadata": {
            "tags": []
          },
          "execution_count": 87
        }
      ]
    },
    {
      "cell_type": "markdown",
      "metadata": {
        "id": "im-0bhKWGydL",
        "colab_type": "text"
      },
      "source": [
        ""
      ]
    },
    {
      "cell_type": "code",
      "metadata": {
        "id": "SVrLe2KXGxcq",
        "colab_type": "code",
        "colab": {}
      },
      "source": [
        ""
      ],
      "execution_count": 16,
      "outputs": []
    }
  ]
}